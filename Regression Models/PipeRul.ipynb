{
 "cells": [
  {
   "cell_type": "code",
   "execution_count": 5,
   "id": "f755c4f5",
   "metadata": {},
   "outputs": [],
   "source": [
    "import pandas as pd\n",
    "from pandas import Series, DataFrame\n",
    "import numpy as np\n",
    "from scipy import stats\n",
    "\n",
    "from sklearn.model_selection import train_test_split\n",
    "from sklearn.linear_model import LinearRegression\n",
    "import statsmodels.api as sm\n",
    "from IPython import get_ipython\n",
    "\n",
    "from matplotlib.pylab import plt #load plot library\n",
    "# indicate the output of plotting function is printed to the notebook\n",
    "get_ipython().run_line_magic('matplotlib', 'inline')\n"
   ]
  },
  {
   "cell_type": "code",
   "execution_count": 18,
   "id": "5b4e9e37",
   "metadata": {},
   "outputs": [
    {
     "data": {
      "text/html": [
       "<div>\n",
       "<style scoped>\n",
       "    .dataframe tbody tr th:only-of-type {\n",
       "        vertical-align: middle;\n",
       "    }\n",
       "\n",
       "    .dataframe tbody tr th {\n",
       "        vertical-align: top;\n",
       "    }\n",
       "\n",
       "    .dataframe thead th {\n",
       "        text-align: right;\n",
       "    }\n",
       "</style>\n",
       "<table border=\"1\" class=\"dataframe\">\n",
       "  <thead>\n",
       "    <tr style=\"text-align: right;\">\n",
       "      <th></th>\n",
       "      <th>PipeAge</th>\n",
       "      <th>PipeDiameter</th>\n",
       "      <th>PipeLength</th>\n",
       "      <th>PipeBreakage</th>\n",
       "      <th>PipeWallLos</th>\n",
       "      <th>ExpectedPipeAge</th>\n",
       "      <th>Material_CI</th>\n",
       "      <th>Material_Concrete</th>\n",
       "      <th>Material_Ductile Iron</th>\n",
       "      <th>Material_PVC</th>\n",
       "      <th>Material_Polyethene</th>\n",
       "      <th>Material_Steel</th>\n",
       "      <th>PipeRUL</th>\n",
       "    </tr>\n",
       "  </thead>\n",
       "  <tbody>\n",
       "    <tr>\n",
       "      <th>0</th>\n",
       "      <td>151</td>\n",
       "      <td>1682</td>\n",
       "      <td>4880.722405</td>\n",
       "      <td>928.382088</td>\n",
       "      <td>35</td>\n",
       "      <td>49</td>\n",
       "      <td>1</td>\n",
       "      <td>0</td>\n",
       "      <td>0</td>\n",
       "      <td>0</td>\n",
       "      <td>0</td>\n",
       "      <td>0</td>\n",
       "      <td>43</td>\n",
       "    </tr>\n",
       "    <tr>\n",
       "      <th>1</th>\n",
       "      <td>80</td>\n",
       "      <td>3865</td>\n",
       "      <td>1940.107485</td>\n",
       "      <td>98.755500</td>\n",
       "      <td>41</td>\n",
       "      <td>120</td>\n",
       "      <td>1</td>\n",
       "      <td>0</td>\n",
       "      <td>0</td>\n",
       "      <td>0</td>\n",
       "      <td>0</td>\n",
       "      <td>0</td>\n",
       "      <td>24</td>\n",
       "    </tr>\n",
       "    <tr>\n",
       "      <th>2</th>\n",
       "      <td>74</td>\n",
       "      <td>1659</td>\n",
       "      <td>2599.669467</td>\n",
       "      <td>751.541033</td>\n",
       "      <td>27</td>\n",
       "      <td>126</td>\n",
       "      <td>1</td>\n",
       "      <td>0</td>\n",
       "      <td>0</td>\n",
       "      <td>0</td>\n",
       "      <td>0</td>\n",
       "      <td>0</td>\n",
       "      <td>15</td>\n",
       "    </tr>\n",
       "    <tr>\n",
       "      <th>3</th>\n",
       "      <td>132</td>\n",
       "      <td>3196</td>\n",
       "      <td>1468.885640</td>\n",
       "      <td>570.858471</td>\n",
       "      <td>13</td>\n",
       "      <td>68</td>\n",
       "      <td>0</td>\n",
       "      <td>1</td>\n",
       "      <td>0</td>\n",
       "      <td>0</td>\n",
       "      <td>0</td>\n",
       "      <td>0</td>\n",
       "      <td>23</td>\n",
       "    </tr>\n",
       "    <tr>\n",
       "      <th>4</th>\n",
       "      <td>125</td>\n",
       "      <td>2374</td>\n",
       "      <td>746.420442</td>\n",
       "      <td>1066.889783</td>\n",
       "      <td>5</td>\n",
       "      <td>75</td>\n",
       "      <td>0</td>\n",
       "      <td>0</td>\n",
       "      <td>1</td>\n",
       "      <td>0</td>\n",
       "      <td>0</td>\n",
       "      <td>0</td>\n",
       "      <td>2</td>\n",
       "    </tr>\n",
       "  </tbody>\n",
       "</table>\n",
       "</div>"
      ],
      "text/plain": [
       "   PipeAge  PipeDiameter   PipeLength  PipeBreakage  PipeWallLos  \\\n",
       "0      151          1682  4880.722405    928.382088           35   \n",
       "1       80          3865  1940.107485     98.755500           41   \n",
       "2       74          1659  2599.669467    751.541033           27   \n",
       "3      132          3196  1468.885640    570.858471           13   \n",
       "4      125          2374   746.420442   1066.889783            5   \n",
       "\n",
       "   ExpectedPipeAge  Material_CI  Material_Concrete  Material_Ductile Iron  \\\n",
       "0               49            1                  0                      0   \n",
       "1              120            1                  0                      0   \n",
       "2              126            1                  0                      0   \n",
       "3               68            0                  1                      0   \n",
       "4               75            0                  0                      1   \n",
       "\n",
       "   Material_PVC  Material_Polyethene  Material_Steel  PipeRUL  \n",
       "0             0                    0               0       43  \n",
       "1             0                    0               0       24  \n",
       "2             0                    0               0       15  \n",
       "3             0                    0               0       23  \n",
       "4             0                    0               0        2  "
      ]
     },
     "execution_count": 18,
     "metadata": {},
     "output_type": "execute_result"
    }
   ],
   "source": [
    "Boston = pd.read_csv('C:/Users/dgarg/Desktop/aging/PipeDataset.csv')\n",
    "Boston.head()"
   ]
  },
  {
   "cell_type": "code",
   "execution_count": 19,
   "id": "0a0962b7",
   "metadata": {},
   "outputs": [],
   "source": [
    "boston1 = Boston"
   ]
  },
  {
   "cell_type": "code",
   "execution_count": 20,
   "id": "c2e8321d",
   "metadata": {},
   "outputs": [],
   "source": [
    "Boston = boston1"
   ]
  },
  {
   "cell_type": "code",
   "execution_count": 21,
   "id": "b01fb059",
   "metadata": {},
   "outputs": [
    {
     "data": {
      "text/plain": [
       "PipeAge                   151.000000\n",
       "PipeDiameter             1682.000000\n",
       "PipeLength               4880.722405\n",
       "PipeBreakage              928.382088\n",
       "PipeWallLos                35.000000\n",
       "ExpectedPipeAge            49.000000\n",
       "Material_CI                 1.000000\n",
       "Material_Concrete           0.000000\n",
       "Material_Ductile Iron       0.000000\n",
       "Material_PVC                0.000000\n",
       "Material_Polyethene         0.000000\n",
       "Material_Steel              0.000000\n",
       "PipeRUL                    43.000000\n",
       "Name: 0, dtype: float64"
      ]
     },
     "execution_count": 21,
     "metadata": {},
     "output_type": "execute_result"
    }
   ],
   "source": [
    "Boston.iloc[0]"
   ]
  },
  {
   "cell_type": "code",
   "execution_count": 22,
   "id": "f09b78cc",
   "metadata": {},
   "outputs": [
    {
     "name": "stdout",
     "output_type": "stream",
     "text": [
      "(10000, 13)\n"
     ]
    },
    {
     "data": {
      "text/html": [
       "<div>\n",
       "<style scoped>\n",
       "    .dataframe tbody tr th:only-of-type {\n",
       "        vertical-align: middle;\n",
       "    }\n",
       "\n",
       "    .dataframe tbody tr th {\n",
       "        vertical-align: top;\n",
       "    }\n",
       "\n",
       "    .dataframe thead th {\n",
       "        text-align: right;\n",
       "    }\n",
       "</style>\n",
       "<table border=\"1\" class=\"dataframe\">\n",
       "  <thead>\n",
       "    <tr style=\"text-align: right;\">\n",
       "      <th></th>\n",
       "      <th>PipeAge</th>\n",
       "      <th>PipeDiameter</th>\n",
       "      <th>PipeLength</th>\n",
       "      <th>PipeBreakage</th>\n",
       "      <th>PipeWallLos</th>\n",
       "      <th>ExpectedPipeAge</th>\n",
       "      <th>Material_CI</th>\n",
       "      <th>Material_Concrete</th>\n",
       "      <th>Material_Ductile Iron</th>\n",
       "      <th>Material_PVC</th>\n",
       "      <th>Material_Polyethene</th>\n",
       "      <th>Material_Steel</th>\n",
       "      <th>PipeRUL</th>\n",
       "    </tr>\n",
       "  </thead>\n",
       "  <tbody>\n",
       "    <tr>\n",
       "      <th>0</th>\n",
       "      <td>151</td>\n",
       "      <td>1682</td>\n",
       "      <td>4880.722405</td>\n",
       "      <td>928.382088</td>\n",
       "      <td>35</td>\n",
       "      <td>49</td>\n",
       "      <td>1</td>\n",
       "      <td>0</td>\n",
       "      <td>0</td>\n",
       "      <td>0</td>\n",
       "      <td>0</td>\n",
       "      <td>0</td>\n",
       "      <td>43</td>\n",
       "    </tr>\n",
       "    <tr>\n",
       "      <th>1</th>\n",
       "      <td>80</td>\n",
       "      <td>3865</td>\n",
       "      <td>1940.107485</td>\n",
       "      <td>98.755500</td>\n",
       "      <td>41</td>\n",
       "      <td>120</td>\n",
       "      <td>1</td>\n",
       "      <td>0</td>\n",
       "      <td>0</td>\n",
       "      <td>0</td>\n",
       "      <td>0</td>\n",
       "      <td>0</td>\n",
       "      <td>24</td>\n",
       "    </tr>\n",
       "  </tbody>\n",
       "</table>\n",
       "</div>"
      ],
      "text/plain": [
       "   PipeAge  PipeDiameter   PipeLength  PipeBreakage  PipeWallLos  \\\n",
       "0      151          1682  4880.722405    928.382088           35   \n",
       "1       80          3865  1940.107485     98.755500           41   \n",
       "\n",
       "   ExpectedPipeAge  Material_CI  Material_Concrete  Material_Ductile Iron  \\\n",
       "0               49            1                  0                      0   \n",
       "1              120            1                  0                      0   \n",
       "\n",
       "   Material_PVC  Material_Polyethene  Material_Steel  PipeRUL  \n",
       "0             0                    0               0       43  \n",
       "1             0                    0               0       24  "
      ]
     },
     "execution_count": 22,
     "metadata": {},
     "output_type": "execute_result"
    }
   ],
   "source": [
    "#Boston = Boston[1:]\n",
    "print(Boston.shape)\n",
    "Boston.head(2)"
   ]
  },
  {
   "cell_type": "code",
   "execution_count": 23,
   "id": "9dda661a",
   "metadata": {},
   "outputs": [
    {
     "data": {
      "text/plain": [
       "PipeAge                    int64\n",
       "PipeDiameter               int64\n",
       "PipeLength               float64\n",
       "PipeBreakage             float64\n",
       "PipeWallLos                int64\n",
       "ExpectedPipeAge            int64\n",
       "Material_CI                int64\n",
       "Material_Concrete          int64\n",
       "Material_Ductile Iron      int64\n",
       "Material_PVC               int64\n",
       "Material_Polyethene        int64\n",
       "Material_Steel             int64\n",
       "PipeRUL                    int64\n",
       "dtype: object"
      ]
     },
     "execution_count": 23,
     "metadata": {},
     "output_type": "execute_result"
    }
   ],
   "source": [
    "Boston.dtypes"
   ]
  },
  {
   "cell_type": "code",
   "execution_count": 24,
   "id": "31379819",
   "metadata": {},
   "outputs": [
    {
     "data": {
      "text/html": [
       "<div>\n",
       "<style scoped>\n",
       "    .dataframe tbody tr th:only-of-type {\n",
       "        vertical-align: middle;\n",
       "    }\n",
       "\n",
       "    .dataframe tbody tr th {\n",
       "        vertical-align: top;\n",
       "    }\n",
       "\n",
       "    .dataframe thead th {\n",
       "        text-align: right;\n",
       "    }\n",
       "</style>\n",
       "<table border=\"1\" class=\"dataframe\">\n",
       "  <thead>\n",
       "    <tr style=\"text-align: right;\">\n",
       "      <th></th>\n",
       "      <th>PipeAge</th>\n",
       "      <th>PipeDiameter</th>\n",
       "      <th>PipeLength</th>\n",
       "      <th>PipeBreakage</th>\n",
       "      <th>PipeWallLos</th>\n",
       "      <th>ExpectedPipeAge</th>\n",
       "      <th>Material_CI</th>\n",
       "      <th>Material_Concrete</th>\n",
       "      <th>Material_Ductile Iron</th>\n",
       "      <th>Material_PVC</th>\n",
       "      <th>Material_Polyethene</th>\n",
       "      <th>Material_Steel</th>\n",
       "      <th>PipeRUL</th>\n",
       "    </tr>\n",
       "  </thead>\n",
       "  <tbody>\n",
       "    <tr>\n",
       "      <th>count</th>\n",
       "      <td>10000.00000</td>\n",
       "      <td>10000.00000</td>\n",
       "      <td>10000.000000</td>\n",
       "      <td>10000.000000</td>\n",
       "      <td>10000.000000</td>\n",
       "      <td>10000.00000</td>\n",
       "      <td>10000.000000</td>\n",
       "      <td>10000.000000</td>\n",
       "      <td>10000.000000</td>\n",
       "      <td>10000.000000</td>\n",
       "      <td>10000.000000</td>\n",
       "      <td>10000.000000</td>\n",
       "      <td>10000.000000</td>\n",
       "    </tr>\n",
       "    <tr>\n",
       "      <th>mean</th>\n",
       "      <td>76.07370</td>\n",
       "      <td>1953.35430</td>\n",
       "      <td>3291.035385</td>\n",
       "      <td>547.255449</td>\n",
       "      <td>22.591500</td>\n",
       "      <td>123.92630</td>\n",
       "      <td>0.547300</td>\n",
       "      <td>0.112400</td>\n",
       "      <td>0.048000</td>\n",
       "      <td>0.046700</td>\n",
       "      <td>0.068200</td>\n",
       "      <td>0.066000</td>\n",
       "      <td>22.349400</td>\n",
       "    </tr>\n",
       "    <tr>\n",
       "      <th>std</th>\n",
       "      <td>43.94604</td>\n",
       "      <td>1109.98577</td>\n",
       "      <td>1896.660407</td>\n",
       "      <td>317.846802</td>\n",
       "      <td>12.786429</td>\n",
       "      <td>43.94604</td>\n",
       "      <td>0.497783</td>\n",
       "      <td>0.315874</td>\n",
       "      <td>0.213777</td>\n",
       "      <td>0.211006</td>\n",
       "      <td>0.252101</td>\n",
       "      <td>0.248295</td>\n",
       "      <td>12.758182</td>\n",
       "    </tr>\n",
       "    <tr>\n",
       "      <th>min</th>\n",
       "      <td>1.00000</td>\n",
       "      <td>20.00000</td>\n",
       "      <td>0.812309</td>\n",
       "      <td>0.284159</td>\n",
       "      <td>1.000000</td>\n",
       "      <td>48.00000</td>\n",
       "      <td>0.000000</td>\n",
       "      <td>0.000000</td>\n",
       "      <td>0.000000</td>\n",
       "      <td>0.000000</td>\n",
       "      <td>0.000000</td>\n",
       "      <td>0.000000</td>\n",
       "      <td>1.000000</td>\n",
       "    </tr>\n",
       "    <tr>\n",
       "      <th>25%</th>\n",
       "      <td>38.00000</td>\n",
       "      <td>1000.00000</td>\n",
       "      <td>1632.562399</td>\n",
       "      <td>268.842908</td>\n",
       "      <td>11.000000</td>\n",
       "      <td>86.00000</td>\n",
       "      <td>0.000000</td>\n",
       "      <td>0.000000</td>\n",
       "      <td>0.000000</td>\n",
       "      <td>0.000000</td>\n",
       "      <td>0.000000</td>\n",
       "      <td>0.000000</td>\n",
       "      <td>11.000000</td>\n",
       "    </tr>\n",
       "    <tr>\n",
       "      <th>50%</th>\n",
       "      <td>77.00000</td>\n",
       "      <td>1954.50000</td>\n",
       "      <td>3272.531037</td>\n",
       "      <td>549.593356</td>\n",
       "      <td>23.000000</td>\n",
       "      <td>123.00000</td>\n",
       "      <td>1.000000</td>\n",
       "      <td>0.000000</td>\n",
       "      <td>0.000000</td>\n",
       "      <td>0.000000</td>\n",
       "      <td>0.000000</td>\n",
       "      <td>0.000000</td>\n",
       "      <td>22.000000</td>\n",
       "    </tr>\n",
       "    <tr>\n",
       "      <th>75%</th>\n",
       "      <td>114.00000</td>\n",
       "      <td>2904.00000</td>\n",
       "      <td>4943.290532</td>\n",
       "      <td>822.979965</td>\n",
       "      <td>34.000000</td>\n",
       "      <td>162.00000</td>\n",
       "      <td>1.000000</td>\n",
       "      <td>0.000000</td>\n",
       "      <td>0.000000</td>\n",
       "      <td>0.000000</td>\n",
       "      <td>0.000000</td>\n",
       "      <td>0.000000</td>\n",
       "      <td>34.000000</td>\n",
       "    </tr>\n",
       "    <tr>\n",
       "      <th>max</th>\n",
       "      <td>152.00000</td>\n",
       "      <td>3899.00000</td>\n",
       "      <td>6556.926577</td>\n",
       "      <td>1098.158096</td>\n",
       "      <td>44.000000</td>\n",
       "      <td>199.00000</td>\n",
       "      <td>1.000000</td>\n",
       "      <td>1.000000</td>\n",
       "      <td>1.000000</td>\n",
       "      <td>1.000000</td>\n",
       "      <td>1.000000</td>\n",
       "      <td>1.000000</td>\n",
       "      <td>44.000000</td>\n",
       "    </tr>\n",
       "  </tbody>\n",
       "</table>\n",
       "</div>"
      ],
      "text/plain": [
       "           PipeAge  PipeDiameter    PipeLength  PipeBreakage   PipeWallLos  \\\n",
       "count  10000.00000   10000.00000  10000.000000  10000.000000  10000.000000   \n",
       "mean      76.07370    1953.35430   3291.035385    547.255449     22.591500   \n",
       "std       43.94604    1109.98577   1896.660407    317.846802     12.786429   \n",
       "min        1.00000      20.00000      0.812309      0.284159      1.000000   \n",
       "25%       38.00000    1000.00000   1632.562399    268.842908     11.000000   \n",
       "50%       77.00000    1954.50000   3272.531037    549.593356     23.000000   \n",
       "75%      114.00000    2904.00000   4943.290532    822.979965     34.000000   \n",
       "max      152.00000    3899.00000   6556.926577   1098.158096     44.000000   \n",
       "\n",
       "       ExpectedPipeAge   Material_CI  Material_Concrete  \\\n",
       "count      10000.00000  10000.000000       10000.000000   \n",
       "mean         123.92630      0.547300           0.112400   \n",
       "std           43.94604      0.497783           0.315874   \n",
       "min           48.00000      0.000000           0.000000   \n",
       "25%           86.00000      0.000000           0.000000   \n",
       "50%          123.00000      1.000000           0.000000   \n",
       "75%          162.00000      1.000000           0.000000   \n",
       "max          199.00000      1.000000           1.000000   \n",
       "\n",
       "       Material_Ductile Iron  Material_PVC  Material_Polyethene  \\\n",
       "count           10000.000000  10000.000000         10000.000000   \n",
       "mean                0.048000      0.046700             0.068200   \n",
       "std                 0.213777      0.211006             0.252101   \n",
       "min                 0.000000      0.000000             0.000000   \n",
       "25%                 0.000000      0.000000             0.000000   \n",
       "50%                 0.000000      0.000000             0.000000   \n",
       "75%                 0.000000      0.000000             0.000000   \n",
       "max                 1.000000      1.000000             1.000000   \n",
       "\n",
       "       Material_Steel       PipeRUL  \n",
       "count    10000.000000  10000.000000  \n",
       "mean         0.066000     22.349400  \n",
       "std          0.248295     12.758182  \n",
       "min          0.000000      1.000000  \n",
       "25%          0.000000     11.000000  \n",
       "50%          0.000000     22.000000  \n",
       "75%          0.000000     34.000000  \n",
       "max          1.000000     44.000000  "
      ]
     },
     "execution_count": 24,
     "metadata": {},
     "output_type": "execute_result"
    }
   ],
   "source": [
    "Boston.describe()"
   ]
  },
  {
   "cell_type": "code",
   "execution_count": 25,
   "id": "f40ef8bb",
   "metadata": {},
   "outputs": [
    {
     "data": {
      "text/plain": [
       "PipeAge                  0\n",
       "PipeDiameter             0\n",
       "PipeLength               0\n",
       "PipeBreakage             0\n",
       "PipeWallLos              0\n",
       "ExpectedPipeAge          0\n",
       "Material_CI              0\n",
       "Material_Concrete        0\n",
       "Material_Ductile Iron    0\n",
       "Material_PVC             0\n",
       "Material_Polyethene      0\n",
       "Material_Steel           0\n",
       "PipeRUL                  0\n",
       "dtype: int64"
      ]
     },
     "execution_count": 25,
     "metadata": {},
     "output_type": "execute_result"
    }
   ],
   "source": [
    "Boston.isnull().sum()"
   ]
  },
  {
   "cell_type": "code",
   "execution_count": 26,
   "id": "961ffc04",
   "metadata": {},
   "outputs": [
    {
     "data": {
      "image/png": "[encoded data removed]",
      "text/plain": [
       "<Figure size 432x288 with 1 Axes>"
      ]
     },
     "metadata": {
      "needs_background": "light"
     },
     "output_type": "display_data"
    }
   ],
   "source": [
    "plt.scatter(Boston['PipeAge'], Boston['PipeRUL'])\n",
    "plt.title('Scatter plot')\n",
    "plt.xlabel('PipeAge')\n",
    "plt.ylabel('PipeRUL')\n",
    "plt.show()\n"
   ]
  },
  {
   "cell_type": "code",
   "execution_count": 27,
   "id": "50db26b3",
   "metadata": {},
   "outputs": [],
   "source": [
    "X_Boston = Boston.iloc[ :,0:12]\n",
    "Y_Boston = Boston.iloc[ :,12]"
   ]
  },
  {
   "cell_type": "code",
   "execution_count": 28,
   "id": "d768b2e8",
   "metadata": {
    "scrolled": true
   },
   "outputs": [
    {
     "name": "stdout",
     "output_type": "stream",
     "text": [
      "<bound method NDFrame.head of       PipeAge  PipeDiameter   PipeLength  PipeBreakage  PipeWallLos  \\\n",
      "0         151          1682  4880.722405    928.382088           35   \n",
      "1          80          3865  1940.107485     98.755500           41   \n",
      "2          74          1659  2599.669467    751.541033           27   \n",
      "3         132          3196  1468.885640    570.858471           13   \n",
      "4         125          2374   746.420442   1066.889783            5   \n",
      "...       ...           ...          ...           ...          ...   \n",
      "9995       15          1818  4071.684587    541.181728           32   \n",
      "9996       48          2888  3388.172266    805.805542           13   \n",
      "9997       75           603   232.980162     99.812867            8   \n",
      "9998       88          2710   704.739963    707.245816           41   \n",
      "9999      110          1140  4881.948140     49.557864           43   \n",
      "\n",
      "      ExpectedPipeAge  Material_CI  Material_Concrete  Material_Ductile Iron  \\\n",
      "0                  49            1                  0                      0   \n",
      "1                 120            1                  0                      0   \n",
      "2                 126            1                  0                      0   \n",
      "3                  68            0                  1                      0   \n",
      "4                  75            0                  0                      1   \n",
      "...               ...          ...                ...                    ...   \n",
      "9995              185            1                  0                      0   \n",
      "9996              152            0                  1                      0   \n",
      "9997              125            0                  0                      0   \n",
      "9998              112            1                  0                      0   \n",
      "9999               90            1                  0                      0   \n",
      "\n",
      "      Material_PVC  Material_Polyethene  Material_Steel  \n",
      "0                0                    0               0  \n",
      "1                0                    0               0  \n",
      "2                0                    0               0  \n",
      "3                0                    0               0  \n",
      "4                0                    0               0  \n",
      "...            ...                  ...             ...  \n",
      "9995             0                    0               0  \n",
      "9996             0                    0               0  \n",
      "9997             0                    0               1  \n",
      "9998             0                    0               0  \n",
      "9999             0                    0               0  \n",
      "\n",
      "[10000 rows x 12 columns]>\n"
     ]
    }
   ],
   "source": [
    "print(X_Boston.head)"
   ]
  },
  {
   "cell_type": "code",
   "execution_count": 29,
   "id": "5e2ba4de",
   "metadata": {},
   "outputs": [
    {
     "name": "stdout",
     "output_type": "stream",
     "text": [
      "<bound method NDFrame.head of 0       43\n",
      "1       24\n",
      "2       15\n",
      "3       23\n",
      "4        2\n",
      "        ..\n",
      "9995    34\n",
      "9996    38\n",
      "9997    13\n",
      "9998    20\n",
      "9999     1\n",
      "Name: PipeRUL, Length: 10000, dtype: int64>\n"
     ]
    }
   ],
   "source": [
    "print(Y_Boston.head)"
   ]
  },
  {
   "cell_type": "code",
   "execution_count": 30,
   "id": "edb5fca4",
   "metadata": {},
   "outputs": [
    {
     "name": "stdout",
     "output_type": "stream",
     "text": [
      "(7500, 12)\n",
      "(2500, 12)\n",
      "(7500,)\n",
      "(2500,)\n"
     ]
    }
   ],
   "source": [
    "X_train, X_test, y_train, y_test = train_test_split(X_Boston, Y_Boston,\n",
    "                                                   random_state = 0)\n",
    "print(X_train.shape)\n",
    "print(X_test.shape)\n",
    "print(y_train.shape)\n",
    "print(y_test.shape)"
   ]
  },
  {
   "cell_type": "code",
   "execution_count": 31,
   "id": "60dd96f0",
   "metadata": {},
   "outputs": [],
   "source": [
    "linreg = LinearRegression().fit(X_train, y_train)"
   ]
  },
  {
   "cell_type": "code",
   "execution_count": 32,
   "id": "5366f836",
   "metadata": {},
   "outputs": [
    {
     "data": {
      "text/html": [
       "<div>\n",
       "<style scoped>\n",
       "    .dataframe tbody tr th:only-of-type {\n",
       "        vertical-align: middle;\n",
       "    }\n",
       "\n",
       "    .dataframe tbody tr th {\n",
       "        vertical-align: top;\n",
       "    }\n",
       "\n",
       "    .dataframe thead th {\n",
       "        text-align: right;\n",
       "    }\n",
       "</style>\n",
       "<table border=\"1\" class=\"dataframe\">\n",
       "  <thead>\n",
       "    <tr style=\"text-align: right;\">\n",
       "      <th></th>\n",
       "      <th>0</th>\n",
       "      <th>Coefficient Estimate</th>\n",
       "    </tr>\n",
       "  </thead>\n",
       "  <tbody>\n",
       "    <tr>\n",
       "      <th>0</th>\n",
       "      <td>PipeAge</td>\n",
       "      <td>-0.000767</td>\n",
       "    </tr>\n",
       "    <tr>\n",
       "      <th>1</th>\n",
       "      <td>PipeDiameter</td>\n",
       "      <td>0.000122</td>\n",
       "    </tr>\n",
       "    <tr>\n",
       "      <th>2</th>\n",
       "      <td>PipeLength</td>\n",
       "      <td>0.000025</td>\n",
       "    </tr>\n",
       "    <tr>\n",
       "      <th>3</th>\n",
       "      <td>PipeBreakage</td>\n",
       "      <td>0.000184</td>\n",
       "    </tr>\n",
       "    <tr>\n",
       "      <th>4</th>\n",
       "      <td>PipeWallLos</td>\n",
       "      <td>0.009589</td>\n",
       "    </tr>\n",
       "    <tr>\n",
       "      <th>5</th>\n",
       "      <td>ExpectedPipeAge</td>\n",
       "      <td>0.000767</td>\n",
       "    </tr>\n",
       "    <tr>\n",
       "      <th>6</th>\n",
       "      <td>Material_CI</td>\n",
       "      <td>0.107952</td>\n",
       "    </tr>\n",
       "    <tr>\n",
       "      <th>7</th>\n",
       "      <td>Material_Concrete</td>\n",
       "      <td>-0.503837</td>\n",
       "    </tr>\n",
       "    <tr>\n",
       "      <th>8</th>\n",
       "      <td>Material_Ductile Iron</td>\n",
       "      <td>0.637395</td>\n",
       "    </tr>\n",
       "    <tr>\n",
       "      <th>9</th>\n",
       "      <td>Material_PVC</td>\n",
       "      <td>0.714574</td>\n",
       "    </tr>\n",
       "    <tr>\n",
       "      <th>10</th>\n",
       "      <td>Material_Polyethene</td>\n",
       "      <td>0.466489</td>\n",
       "    </tr>\n",
       "    <tr>\n",
       "      <th>11</th>\n",
       "      <td>Material_Steel</td>\n",
       "      <td>-0.291542</td>\n",
       "    </tr>\n",
       "  </tbody>\n",
       "</table>\n",
       "</div>"
      ],
      "text/plain": [
       "                        0  Coefficient Estimate\n",
       "0                 PipeAge             -0.000767\n",
       "1            PipeDiameter              0.000122\n",
       "2              PipeLength              0.000025\n",
       "3            PipeBreakage              0.000184\n",
       "4             PipeWallLos              0.009589\n",
       "5         ExpectedPipeAge              0.000767\n",
       "6             Material_CI              0.107952\n",
       "7       Material_Concrete             -0.503837\n",
       "8   Material_Ductile Iron              0.637395\n",
       "9            Material_PVC              0.714574\n",
       "10    Material_Polyethene              0.466489\n",
       "11         Material_Steel             -0.291542"
      ]
     },
     "execution_count": 32,
     "metadata": {},
     "output_type": "execute_result"
    }
   ],
   "source": [
    "\n",
    "coeff = DataFrame(X_train.columns)\n",
    "coeff['Coefficient Estimate'] = Series(linreg.coef_)\n",
    "coeff"
   ]
  },
  {
   "cell_type": "code",
   "execution_count": 33,
   "id": "86849610",
   "metadata": {},
   "outputs": [],
   "source": [
    "X = X_train\n",
    "y = y_train"
   ]
  },
  {
   "cell_type": "code",
   "execution_count": 34,
   "id": "704455e5",
   "metadata": {},
   "outputs": [
    {
     "name": "stdout",
     "output_type": "stream",
     "text": [
      "                            OLS Regression Results                            \n",
      "==============================================================================\n",
      "Dep. Variable:                PipeRUL   R-squared:                       0.001\n",
      "Model:                            OLS   Adj. R-squared:                 -0.001\n",
      "Method:                 Least Squares   F-statistic:                    0.5528\n",
      "Date:                Thu, 10 Jun 2021   Prob (F-statistic):              0.868\n",
      "Time:                        14:00:18   Log-Likelihood:                -29751.\n",
      "No. Observations:                7500   AIC:                         5.953e+04\n",
      "Df Residuals:                    7488   BIC:                         5.961e+04\n",
      "Df Model:                          11                                         \n",
      "Covariance Type:            nonrobust                                         \n",
      "=========================================================================================\n",
      "                            coef    std err          t      P>|t|      [0.025      0.975]\n",
      "-----------------------------------------------------------------------------------------\n",
      "const                     0.0011   4.09e-05     26.344      0.000       0.001       0.001\n",
      "PipeAge                   0.1070      0.005     23.477      0.000       0.098       0.116\n",
      "PipeDiameter              0.0001      0.000      0.918      0.359      -0.000       0.000\n",
      "PipeLength             2.517e-05   7.81e-05      0.322      0.747      -0.000       0.000\n",
      "PipeBreakage              0.0002      0.000      0.394      0.694      -0.001       0.001\n",
      "PipeWallLos               0.0096      0.028      0.337      0.736      -0.046       0.065\n",
      "ExpectedPipeAge           0.1086      0.004     25.316      0.000       0.100       0.117\n",
      "Material_CI               0.1080      0.642      0.168      0.866      -1.150       1.366\n",
      "Material_Concrete        -0.5038      0.646     -0.780      0.435      -1.770       0.763\n",
      "Material_Ductile Iron     0.6374      0.885      0.720      0.472      -1.098       2.373\n",
      "Material_PVC              0.7146      0.849      0.842      0.400      -0.949       2.379\n",
      "Material_Polyethene       0.4665      0.849      0.549      0.583      -1.198       2.131\n",
      "Material_Steel           -0.2915      0.794     -0.367      0.714      -1.848       1.265\n",
      "==============================================================================\n",
      "Omnibus:                     7567.059   Durbin-Watson:                   2.047\n",
      "Prob(Omnibus):                  0.000   Jarque-Bera (JB):              462.639\n",
      "Skew:                           0.016   Prob(JB):                    3.46e-101\n",
      "Kurtosis:                       1.784   Cond. No.                     4.09e+18\n",
      "==============================================================================\n",
      "\n",
      "Notes:\n",
      "[1] Standard Errors assume that the covariance matrix of the errors is correctly specified.\n",
      "[2] The smallest eigenvalue is 8.01e-27. This might indicate that there are\n",
      "strong multicollinearity problems or that the design matrix is singular.\n"
     ]
    }
   ],
   "source": [
    "X2 = sm.add_constant(X)\n",
    "est2 = sm.OLS(y, X2).fit()\n",
    "print(est2.summary())\n"
   ]
  },
  {
   "cell_type": "code",
   "execution_count": 35,
   "id": "bf3f15a7",
   "metadata": {},
   "outputs": [
    {
     "data": {
      "text/plain": [
       "Index(['PipeAge', 'PipeDiameter', 'PipeLength', 'PipeBreakage', 'PipeWallLos',\n",
       "       'ExpectedPipeAge', 'Material_CI', 'Material_Concrete',\n",
       "       'Material_Ductile Iron', 'Material_PVC', 'Material_Polyethene',\n",
       "       'Material_Steel'],\n",
       "      dtype='object')"
      ]
     },
     "execution_count": 35,
     "metadata": {},
     "output_type": "execute_result"
    }
   ],
   "source": [
    "X_train.columns"
   ]
  },
  {
   "cell_type": "code",
   "execution_count": 36,
   "id": "cbf6f92b",
   "metadata": {},
   "outputs": [
    {
     "name": "stdout",
     "output_type": "stream",
     "text": [
      "                            OLS Regression Results                            \n",
      "==============================================================================\n",
      "Dep. Variable:                PipeRUL   R-squared:                       0.001\n",
      "Model:                            OLS   Adj. R-squared:                 -0.001\n",
      "Method:                 Least Squares   F-statistic:                    0.5528\n",
      "Date:                Thu, 10 Jun 2021   Prob (F-statistic):              0.868\n",
      "Time:                        14:00:23   Log-Likelihood:                -29751.\n",
      "No. Observations:                7500   AIC:                         5.953e+04\n",
      "Df Residuals:                    7488   BIC:                         5.961e+04\n",
      "Df Model:                          11                                         \n",
      "Covariance Type:            nonrobust                                         \n",
      "=========================================================================================\n",
      "                            coef    std err          t      P>|t|      [0.025      0.975]\n",
      "-----------------------------------------------------------------------------------------\n",
      "const                     0.0011   4.09e-05     26.344      0.000       0.001       0.001\n",
      "PipeAge                   0.1070      0.005     23.477      0.000       0.098       0.116\n",
      "PipeDiameter              0.0001      0.000      0.918      0.359      -0.000       0.000\n",
      "PipeLength             2.517e-05   7.81e-05      0.322      0.747      -0.000       0.000\n",
      "PipeBreakage              0.0002      0.000      0.394      0.694      -0.001       0.001\n",
      "PipeWallLos               0.0096      0.028      0.337      0.736      -0.046       0.065\n",
      "ExpectedPipeAge           0.1086      0.004     25.316      0.000       0.100       0.117\n",
      "Material_CI               0.1080      0.642      0.168      0.866      -1.150       1.366\n",
      "Material_Concrete        -0.5038      0.646     -0.780      0.435      -1.770       0.763\n",
      "Material_Ductile Iron     0.6374      0.885      0.720      0.472      -1.098       2.373\n",
      "Material_PVC              0.7146      0.849      0.842      0.400      -0.949       2.379\n",
      "Material_Polyethene       0.4665      0.849      0.549      0.583      -1.198       2.131\n",
      "Material_Steel           -0.2915      0.794     -0.367      0.714      -1.848       1.265\n",
      "==============================================================================\n",
      "Omnibus:                     7567.059   Durbin-Watson:                   2.047\n",
      "Prob(Omnibus):                  0.000   Jarque-Bera (JB):              462.639\n",
      "Skew:                           0.016   Prob(JB):                    3.46e-101\n",
      "Kurtosis:                       1.784   Cond. No.                     4.09e+18\n",
      "==============================================================================\n",
      "\n",
      "Notes:\n",
      "[1] Standard Errors assume that the covariance matrix of the errors is correctly specified.\n",
      "[2] The smallest eigenvalue is 8.01e-27. This might indicate that there are\n",
      "strong multicollinearity problems or that the design matrix is singular.\n"
     ]
    }
   ],
   "source": [
    "X = X_train\n",
    "y = y_train\n",
    "X2 = sm.add_constant(X)\n",
    "est2 = sm.OLS(y, X2).fit()\n",
    "print(est2.summary())"
   ]
  },
  {
   "cell_type": "code",
   "execution_count": 37,
   "id": "28da14c2",
   "metadata": {},
   "outputs": [
    {
     "name": "stdout",
     "output_type": "stream",
     "text": [
      "    VIF Factor               features\n",
      "0          0.0                  const\n",
      "1          inf                PipeAge\n",
      "2          1.0           PipeDiameter\n",
      "3          1.0             PipeLength\n",
      "4          1.0           PipeBreakage\n",
      "5          6.1            PipeWallLos\n",
      "6          inf        ExpectedPipeAge\n",
      "7          4.7            Material_CI\n",
      "8          1.9      Material_Concrete\n",
      "9          1.7  Material_Ductile Iron\n",
      "10         1.5           Material_PVC\n",
      "11         2.1    Material_Polyethene\n",
      "12         1.8         Material_Steel\n"
     ]
    },
    {
     "name": "stderr",
     "output_type": "stream",
     "text": [
      "c:\\users\\dgarg\\appdata\\local\\programs\\python\\python37\\lib\\site-packages\\statsmodels\\regression\\linear_model.py:1715: RuntimeWarning: divide by zero encountered in double_scalars\n",
      "  return 1 - self.ssr/self.centered_tss\n",
      "c:\\users\\dgarg\\appdata\\local\\programs\\python\\python37\\lib\\site-packages\\statsmodels\\stats\\outliers_influence.py:193: RuntimeWarning: divide by zero encountered in double_scalars\n",
      "  vif = 1. / (1. - r_squared_i)\n"
     ]
    }
   ],
   "source": [
    "from statsmodels.stats.outliers_influence import variance_inflation_factor\n",
    "\n",
    "vif = pd.DataFrame()\n",
    "vif[\"VIF Factor\"] = [variance_inflation_factor(X2.values, i) for i in range(X2.values.shape[1])]\n",
    "vif[\"features\"] = X2.columns\n",
    "print(vif.round(1))"
   ]
  },
  {
   "cell_type": "code",
   "execution_count": 38,
   "id": "2220353b",
   "metadata": {},
   "outputs": [
    {
     "name": "stdout",
     "output_type": "stream",
     "text": [
      "    VIF Factor               features\n",
      "0          0.0                  const\n",
      "1          inf                PipeAge\n",
      "2          1.0           PipeDiameter\n",
      "3          1.0             PipeLength\n",
      "4          1.0           PipeBreakage\n",
      "5          6.1            PipeWallLos\n",
      "6          inf        ExpectedPipeAge\n",
      "7          4.7            Material_CI\n",
      "8          1.9      Material_Concrete\n",
      "9          1.7  Material_Ductile Iron\n",
      "10         1.5           Material_PVC\n",
      "11         2.1    Material_Polyethene\n",
      "12         1.8         Material_Steel\n"
     ]
    },
    {
     "name": "stderr",
     "output_type": "stream",
     "text": [
      "c:\\users\\dgarg\\appdata\\local\\programs\\python\\python37\\lib\\site-packages\\statsmodels\\regression\\linear_model.py:1715: RuntimeWarning: divide by zero encountered in double_scalars\n",
      "  return 1 - self.ssr/self.centered_tss\n",
      "c:\\users\\dgarg\\appdata\\local\\programs\\python\\python37\\lib\\site-packages\\statsmodels\\stats\\outliers_influence.py:193: RuntimeWarning: divide by zero encountered in double_scalars\n",
      "  vif = 1. / (1. - r_squared_i)\n"
     ]
    }
   ],
   "source": [
    "from statsmodels.stats.outliers_influence import variance_inflation_factor\n",
    "x_temp = sm.add_constant(X_train)\n",
    "\n",
    "vif = pd.DataFrame()\n",
    "vif[\"VIF Factor\"] = [variance_inflation_factor(x_temp.values, i) for i in range(x_temp.values.shape[1])]\n",
    "vif[\"features\"] = x_temp.columns\n",
    "print(vif.round(1))\n"
   ]
  },
  {
   "cell_type": "code",
   "execution_count": 39,
   "id": "0aba588f",
   "metadata": {},
   "outputs": [
    {
     "data": {
      "text/plain": [
       "array([-7.66861195e-04,  1.22419754e-04,  2.51743105e-05,  1.84460495e-04,\n",
       "        9.58856271e-03,  7.66861195e-04,  1.07952067e-01, -5.03836711e-01,\n",
       "        6.37394633e-01,  7.14574208e-01,  4.66488813e-01, -2.91542198e-01])"
      ]
     },
     "execution_count": 39,
     "metadata": {},
     "output_type": "execute_result"
    }
   ],
   "source": [
    "linreg.coef_"
   ]
  },
  {
   "cell_type": "code",
   "execution_count": 40,
   "id": "c544fb1b",
   "metadata": {},
   "outputs": [
    {
     "name": "stdout",
     "output_type": "stream",
     "text": [
      "linear model intercept: 21.563\n",
      "linear model coeff:\n",
      "[-7.66861195e-04  1.22419754e-04  2.51743105e-05  1.84460495e-04\n",
      "  9.58856271e-03  7.66861195e-04  1.07952067e-01 -5.03836711e-01\n",
      "  6.37394633e-01  7.14574208e-01  4.66488813e-01 -2.91542198e-01]\n",
      "R-squared score (training): 0.001\n",
      "R-squared score (test): -0.002\n"
     ]
    }
   ],
   "source": [
    "print('linear model intercept: {:.3f}'\n",
    "     .format(linreg.intercept_))\n",
    "print('linear model coeff:\\n{}'\n",
    "     .format(linreg.coef_))\n",
    "print('R-squared score (training): {:.3f}'\n",
    "     .format(linreg.score(X_train, y_train)))\n",
    "print('R-squared score (test): {:.3f}'\n",
    "     .format(linreg.score(X_test, y_test)))"
   ]
  },
  {
   "cell_type": "code",
   "execution_count": 41,
   "id": "d30fee5e",
   "metadata": {},
   "outputs": [
    {
     "name": "stdout",
     "output_type": "stream",
     "text": [
      "[22.60645947 22.60669777 22.57410268 22.35780808 22.18476524]\n"
     ]
    }
   ],
   "source": [
    "predictions = linreg.predict(X_train)\n",
    "predictions\n",
    "print(predictions[0:5,])"
   ]
  },
  {
   "cell_type": "code",
   "execution_count": 42,
   "id": "b05a3b63",
   "metadata": {},
   "outputs": [
    {
     "name": "stdout",
     "output_type": "stream",
     "text": [
      "[22.15037079 22.51379077 22.42810928 21.54693805 22.45869147]\n"
     ]
    }
   ],
   "source": [
    "predictions1 = linreg.predict(X_test)\n",
    "predictions1\n",
    "print(predictions1[0:5,])"
   ]
  },
  {
   "cell_type": "code",
   "execution_count": 43,
   "id": "067252bc",
   "metadata": {},
   "outputs": [
    {
     "data": {
      "text/plain": [
       "9394    22\n",
       "898     39\n",
       "2398    28\n",
       "5906    13\n",
       "2343    14\n",
       "Name: PipeRUL, dtype: int64"
      ]
     },
     "execution_count": 43,
     "metadata": {},
     "output_type": "execute_result"
    }
   ],
   "source": [
    "y_test[0:5,]"
   ]
  },
  {
   "cell_type": "code",
   "execution_count": 44,
   "id": "72973452",
   "metadata": {},
   "outputs": [
    {
     "data": {
      "image/png": "[encoded data removed]",
      "text/plain": [
       "<Figure size 432x288 with 1 Axes>"
      ]
     },
     "metadata": {
      "needs_background": "light"
     },
     "output_type": "display_data"
    }
   ],
   "source": [
    "# Plotting functionality starts here\n",
    "plt.plot(predictions1, color = 'red')\n",
    "plt.show()"
   ]
  },
  {
   "cell_type": "code",
   "execution_count": 45,
   "id": "814d17e8",
   "metadata": {},
   "outputs": [
    {
     "data": {
      "image/png": "[encoded data removed]",
      "text/plain": [
       "<Figure size 432x288 with 1 Axes>"
      ]
     },
     "metadata": {
      "needs_background": "light"
     },
     "output_type": "display_data"
    }
   ],
   "source": [
    "plt.plot(y_test.values.astype('float64'))\n",
    "plt.show()"
   ]
  },
  {
   "cell_type": "code",
   "execution_count": 46,
   "id": "281e90e9",
   "metadata": {},
   "outputs": [
    {
     "data": {
      "image/png": "[encoded data removed]",
      "text/plain": [
       "<Figure size 432x288 with 1 Axes>"
      ]
     },
     "metadata": {
      "needs_background": "light"
     },
     "output_type": "display_data"
    }
   ],
   "source": [
    "plt.plot(y_test.values.astype('float64'), color = 'blue')\n",
    "plt.plot(predictions1, color = 'red')\n",
    "plt.show()\n"
   ]
  },
  {
   "cell_type": "code",
   "execution_count": 47,
   "id": "88638340",
   "metadata": {},
   "outputs": [
    {
     "name": "stdout",
     "output_type": "stream",
     "text": [
      "Housing dataset\n",
      "linear model intercept: 21.563\n",
      "linear model coeff:\n",
      "[-7.66861195e-04  1.22419754e-04  2.51743105e-05  1.84460495e-04\n",
      "  9.58856271e-03  7.66861195e-04  1.07952067e-01 -5.03836711e-01\n",
      "  6.37394633e-01  7.14574208e-01  4.66488813e-01 -2.91542198e-01]\n",
      "R-squared score (training): 0.001\n",
      "R-squared score (test): -0.002\n"
     ]
    }
   ],
   "source": [
    "print('Housing dataset')\n",
    "print('linear model intercept: {:.3f}'\n",
    "     .format(linreg.intercept_))\n",
    "print('linear model coeff:\\n{}'\n",
    "     .format(linreg.coef_))\n",
    "print('R-squared score (training): {:.3f}'\n",
    "     .format(linreg.score(X_train, y_train)))\n",
    "print('R-squared score (test): {:.3f}'\n",
    "     .format(linreg.score(X_test, y_test)))"
   ]
  },
  {
   "cell_type": "code",
   "execution_count": 48,
   "id": "9f8356b3",
   "metadata": {},
   "outputs": [
    {
     "name": "stdout",
     "output_type": "stream",
     "text": [
      "161.3385452477516\n",
      "161.3385452477516\n"
     ]
    }
   ],
   "source": [
    "#Test the models\n",
    "import sklearn.metrics as metrics\n",
    "import sklearn.preprocessing as preprocessing\n",
    "x_test=preprocessing.normalize(X_test)\n",
    "print(metrics.mean_squared_error(y_test,linreg.predict(x_test)))\n",
    "print(metrics.mean_squared_error(y_test,linreg.predict(x_test)))"
   ]
  },
  {
   "cell_type": "code",
   "execution_count": 49,
   "id": "3906f83b",
   "metadata": {},
   "outputs": [
    {
     "name": "stdout",
     "output_type": "stream",
     "text": [
      "164.05098231250625\n"
     ]
    }
   ],
   "source": [
    "#Test the models\n",
    "#import sklearn.metrics as metrics\n",
    "#import sklearn.preprocessing as preprocessing\n",
    "x_test=preprocessing.normalize(X_train)\n",
    "print(metrics.mean_squared_error(y_train,linreg.predict(x_test)))\n",
    "#print(metrics.mean_squared_error(y_test,linreg.predict(x_test)))"
   ]
  },
  {
   "cell_type": "code",
   "execution_count": null,
   "id": "b47f3376",
   "metadata": {},
   "outputs": [],
   "source": []
  }
 ],
 "metadata": {
  "kernelspec": {
   "display_name": "Python 3",
   "language": "python",
   "name": "python3"
  },
  "language_info": {
   "codemirror_mode": {
    "name": "ipython",
    "version": 3
   },
   "file_extension": ".py",
   "mimetype": "text/x-python",
   "name": "python",
   "nbconvert_exporter": "python",
   "pygments_lexer": "ipython3",
   "version": "3.7.9"
  }
 },
 "nbformat": 4,
 "nbformat_minor": 5
}
