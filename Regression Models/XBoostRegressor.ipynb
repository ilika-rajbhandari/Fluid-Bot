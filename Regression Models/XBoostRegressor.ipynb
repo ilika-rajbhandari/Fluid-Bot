{
 "cells": [
  {
   "cell_type": "code",
   "execution_count": 1,
   "id": "49ad952f",
   "metadata": {},
   "outputs": [],
   "source": [
    "import numpy as np\n",
    "import matplotlib.pyplot as plt\n",
    "import pandas as pd \n",
    "\n",
    "from IPython import get_ipython\n",
    "\n",
    "from numpy import absolute\n",
    "from pandas import read_csv\n",
    "from sklearn.model_selection import cross_val_score\n",
    "from sklearn.model_selection import RepeatedKFold\n",
    "from xgboost import XGBRegressor\n",
    "  \n",
    "from matplotlib.pylab import plt #load plot library\n",
    "# indicate the output of plotting function is printed to the notebook\n",
    "get_ipython().run_line_magic('matplotlib', 'inline')\n"
   ]
  },
  {
   "cell_type": "code",
   "execution_count": 2,
   "id": "b8f28da5",
   "metadata": {},
   "outputs": [
    {
     "data": {
      "text/html": [
       "<div>\n",
       "<style scoped>\n",
       "    .dataframe tbody tr th:only-of-type {\n",
       "        vertical-align: middle;\n",
       "    }\n",
       "\n",
       "    .dataframe tbody tr th {\n",
       "        vertical-align: top;\n",
       "    }\n",
       "\n",
       "    .dataframe thead th {\n",
       "        text-align: right;\n",
       "    }\n",
       "</style>\n",
       "<table border=\"1\" class=\"dataframe\">\n",
       "  <thead>\n",
       "    <tr style=\"text-align: right;\">\n",
       "      <th></th>\n",
       "      <th>PipeAge</th>\n",
       "      <th>PipeDiameter</th>\n",
       "      <th>PipeLength</th>\n",
       "      <th>PipeBreakage</th>\n",
       "      <th>PipeWallLos</th>\n",
       "      <th>ExpectedPipeAge</th>\n",
       "      <th>Material_CI</th>\n",
       "      <th>Material_Concrete</th>\n",
       "      <th>Material_Ductile Iron</th>\n",
       "      <th>Material_PVC</th>\n",
       "      <th>Material_Polyethene</th>\n",
       "      <th>Material_Steel</th>\n",
       "      <th>PipeRUL</th>\n",
       "    </tr>\n",
       "  </thead>\n",
       "  <tbody>\n",
       "    <tr>\n",
       "      <th>0</th>\n",
       "      <td>151</td>\n",
       "      <td>1682</td>\n",
       "      <td>4880.722405</td>\n",
       "      <td>928.382088</td>\n",
       "      <td>35</td>\n",
       "      <td>49</td>\n",
       "      <td>1</td>\n",
       "      <td>0</td>\n",
       "      <td>0</td>\n",
       "      <td>0</td>\n",
       "      <td>0</td>\n",
       "      <td>0</td>\n",
       "      <td>43</td>\n",
       "    </tr>\n",
       "    <tr>\n",
       "      <th>1</th>\n",
       "      <td>80</td>\n",
       "      <td>3865</td>\n",
       "      <td>1940.107485</td>\n",
       "      <td>98.755500</td>\n",
       "      <td>41</td>\n",
       "      <td>120</td>\n",
       "      <td>1</td>\n",
       "      <td>0</td>\n",
       "      <td>0</td>\n",
       "      <td>0</td>\n",
       "      <td>0</td>\n",
       "      <td>0</td>\n",
       "      <td>24</td>\n",
       "    </tr>\n",
       "    <tr>\n",
       "      <th>2</th>\n",
       "      <td>74</td>\n",
       "      <td>1659</td>\n",
       "      <td>2599.669467</td>\n",
       "      <td>751.541033</td>\n",
       "      <td>27</td>\n",
       "      <td>126</td>\n",
       "      <td>1</td>\n",
       "      <td>0</td>\n",
       "      <td>0</td>\n",
       "      <td>0</td>\n",
       "      <td>0</td>\n",
       "      <td>0</td>\n",
       "      <td>15</td>\n",
       "    </tr>\n",
       "    <tr>\n",
       "      <th>3</th>\n",
       "      <td>132</td>\n",
       "      <td>3196</td>\n",
       "      <td>1468.885640</td>\n",
       "      <td>570.858471</td>\n",
       "      <td>13</td>\n",
       "      <td>68</td>\n",
       "      <td>0</td>\n",
       "      <td>1</td>\n",
       "      <td>0</td>\n",
       "      <td>0</td>\n",
       "      <td>0</td>\n",
       "      <td>0</td>\n",
       "      <td>23</td>\n",
       "    </tr>\n",
       "    <tr>\n",
       "      <th>4</th>\n",
       "      <td>125</td>\n",
       "      <td>2374</td>\n",
       "      <td>746.420442</td>\n",
       "      <td>1066.889783</td>\n",
       "      <td>5</td>\n",
       "      <td>75</td>\n",
       "      <td>0</td>\n",
       "      <td>0</td>\n",
       "      <td>1</td>\n",
       "      <td>0</td>\n",
       "      <td>0</td>\n",
       "      <td>0</td>\n",
       "      <td>2</td>\n",
       "    </tr>\n",
       "  </tbody>\n",
       "</table>\n",
       "</div>"
      ],
      "text/plain": [
       "   PipeAge  PipeDiameter   PipeLength  PipeBreakage  PipeWallLos  \\\n",
       "0      151          1682  4880.722405    928.382088           35   \n",
       "1       80          3865  1940.107485     98.755500           41   \n",
       "2       74          1659  2599.669467    751.541033           27   \n",
       "3      132          3196  1468.885640    570.858471           13   \n",
       "4      125          2374   746.420442   1066.889783            5   \n",
       "\n",
       "   ExpectedPipeAge  Material_CI  Material_Concrete  Material_Ductile Iron  \\\n",
       "0               49            1                  0                      0   \n",
       "1              120            1                  0                      0   \n",
       "2              126            1                  0                      0   \n",
       "3               68            0                  1                      0   \n",
       "4               75            0                  0                      1   \n",
       "\n",
       "   Material_PVC  Material_Polyethene  Material_Steel  PipeRUL  \n",
       "0             0                    0               0       43  \n",
       "1             0                    0               0       24  \n",
       "2             0                    0               0       15  \n",
       "3             0                    0               0       23  \n",
       "4             0                    0               0        2  "
      ]
     },
     "execution_count": 2,
     "metadata": {},
     "output_type": "execute_result"
    }
   ],
   "source": [
    "data = pd.read_csv('C:/Users/dgarg/Desktop/aging/PipeDataset.csv')\n",
    "data.head()"
   ]
  },
  {
   "cell_type": "code",
   "execution_count": 3,
   "id": "73275428",
   "metadata": {},
   "outputs": [
    {
     "data": {
      "text/plain": [
       "PipeAge                   151.000000\n",
       "PipeDiameter             1682.000000\n",
       "PipeLength               4880.722405\n",
       "PipeBreakage              928.382088\n",
       "PipeWallLos                35.000000\n",
       "ExpectedPipeAge            49.000000\n",
       "Material_CI                 1.000000\n",
       "Material_Concrete           0.000000\n",
       "Material_Ductile Iron       0.000000\n",
       "Material_PVC                0.000000\n",
       "Material_Polyethene         0.000000\n",
       "Material_Steel              0.000000\n",
       "PipeRUL                    43.000000\n",
       "Name: 0, dtype: float64"
      ]
     },
     "execution_count": 3,
     "metadata": {},
     "output_type": "execute_result"
    }
   ],
   "source": [
    "data.iloc[0]"
   ]
  },
  {
   "cell_type": "code",
   "execution_count": 4,
   "id": "a2e57383",
   "metadata": {},
   "outputs": [
    {
     "name": "stdout",
     "output_type": "stream",
     "text": [
      "(10000, 13)\n"
     ]
    },
    {
     "data": {
      "text/plain": [
       "PipeAge                    int64\n",
       "PipeDiameter               int64\n",
       "PipeLength               float64\n",
       "PipeBreakage             float64\n",
       "PipeWallLos                int64\n",
       "ExpectedPipeAge            int64\n",
       "Material_CI                int64\n",
       "Material_Concrete          int64\n",
       "Material_Ductile Iron      int64\n",
       "Material_PVC               int64\n",
       "Material_Polyethene        int64\n",
       "Material_Steel             int64\n",
       "PipeRUL                    int64\n",
       "dtype: object"
      ]
     },
     "execution_count": 4,
     "metadata": {},
     "output_type": "execute_result"
    }
   ],
   "source": [
    "print(data.shape)\n",
    "data.head(2)\n",
    "data.dtypes\n",
    "\n"
   ]
  },
  {
   "cell_type": "code",
   "execution_count": 5,
   "id": "c34a4d7c",
   "metadata": {},
   "outputs": [
    {
     "data": {
      "text/html": [
       "<div>\n",
       "<style scoped>\n",
       "    .dataframe tbody tr th:only-of-type {\n",
       "        vertical-align: middle;\n",
       "    }\n",
       "\n",
       "    .dataframe tbody tr th {\n",
       "        vertical-align: top;\n",
       "    }\n",
       "\n",
       "    .dataframe thead th {\n",
       "        text-align: right;\n",
       "    }\n",
       "</style>\n",
       "<table border=\"1\" class=\"dataframe\">\n",
       "  <thead>\n",
       "    <tr style=\"text-align: right;\">\n",
       "      <th></th>\n",
       "      <th>PipeAge</th>\n",
       "      <th>PipeDiameter</th>\n",
       "      <th>PipeLength</th>\n",
       "      <th>PipeBreakage</th>\n",
       "      <th>PipeWallLos</th>\n",
       "      <th>ExpectedPipeAge</th>\n",
       "      <th>Material_CI</th>\n",
       "      <th>Material_Concrete</th>\n",
       "      <th>Material_Ductile Iron</th>\n",
       "      <th>Material_PVC</th>\n",
       "      <th>Material_Polyethene</th>\n",
       "      <th>Material_Steel</th>\n",
       "      <th>PipeRUL</th>\n",
       "    </tr>\n",
       "  </thead>\n",
       "  <tbody>\n",
       "    <tr>\n",
       "      <th>count</th>\n",
       "      <td>10000.00000</td>\n",
       "      <td>10000.00000</td>\n",
       "      <td>10000.000000</td>\n",
       "      <td>10000.000000</td>\n",
       "      <td>10000.000000</td>\n",
       "      <td>10000.00000</td>\n",
       "      <td>10000.000000</td>\n",
       "      <td>10000.000000</td>\n",
       "      <td>10000.000000</td>\n",
       "      <td>10000.000000</td>\n",
       "      <td>10000.000000</td>\n",
       "      <td>10000.000000</td>\n",
       "      <td>10000.000000</td>\n",
       "    </tr>\n",
       "    <tr>\n",
       "      <th>mean</th>\n",
       "      <td>76.07370</td>\n",
       "      <td>1953.35430</td>\n",
       "      <td>3291.035385</td>\n",
       "      <td>547.255449</td>\n",
       "      <td>22.591500</td>\n",
       "      <td>123.92630</td>\n",
       "      <td>0.547300</td>\n",
       "      <td>0.112400</td>\n",
       "      <td>0.048000</td>\n",
       "      <td>0.046700</td>\n",
       "      <td>0.068200</td>\n",
       "      <td>0.066000</td>\n",
       "      <td>22.349400</td>\n",
       "    </tr>\n",
       "    <tr>\n",
       "      <th>std</th>\n",
       "      <td>43.94604</td>\n",
       "      <td>1109.98577</td>\n",
       "      <td>1896.660407</td>\n",
       "      <td>317.846802</td>\n",
       "      <td>12.786429</td>\n",
       "      <td>43.94604</td>\n",
       "      <td>0.497783</td>\n",
       "      <td>0.315874</td>\n",
       "      <td>0.213777</td>\n",
       "      <td>0.211006</td>\n",
       "      <td>0.252101</td>\n",
       "      <td>0.248295</td>\n",
       "      <td>12.758182</td>\n",
       "    </tr>\n",
       "    <tr>\n",
       "      <th>min</th>\n",
       "      <td>1.00000</td>\n",
       "      <td>20.00000</td>\n",
       "      <td>0.812309</td>\n",
       "      <td>0.284159</td>\n",
       "      <td>1.000000</td>\n",
       "      <td>48.00000</td>\n",
       "      <td>0.000000</td>\n",
       "      <td>0.000000</td>\n",
       "      <td>0.000000</td>\n",
       "      <td>0.000000</td>\n",
       "      <td>0.000000</td>\n",
       "      <td>0.000000</td>\n",
       "      <td>1.000000</td>\n",
       "    </tr>\n",
       "    <tr>\n",
       "      <th>25%</th>\n",
       "      <td>38.00000</td>\n",
       "      <td>1000.00000</td>\n",
       "      <td>1632.562399</td>\n",
       "      <td>268.842908</td>\n",
       "      <td>11.000000</td>\n",
       "      <td>86.00000</td>\n",
       "      <td>0.000000</td>\n",
       "      <td>0.000000</td>\n",
       "      <td>0.000000</td>\n",
       "      <td>0.000000</td>\n",
       "      <td>0.000000</td>\n",
       "      <td>0.000000</td>\n",
       "      <td>11.000000</td>\n",
       "    </tr>\n",
       "    <tr>\n",
       "      <th>50%</th>\n",
       "      <td>77.00000</td>\n",
       "      <td>1954.50000</td>\n",
       "      <td>3272.531037</td>\n",
       "      <td>549.593356</td>\n",
       "      <td>23.000000</td>\n",
       "      <td>123.00000</td>\n",
       "      <td>1.000000</td>\n",
       "      <td>0.000000</td>\n",
       "      <td>0.000000</td>\n",
       "      <td>0.000000</td>\n",
       "      <td>0.000000</td>\n",
       "      <td>0.000000</td>\n",
       "      <td>22.000000</td>\n",
       "    </tr>\n",
       "    <tr>\n",
       "      <th>75%</th>\n",
       "      <td>114.00000</td>\n",
       "      <td>2904.00000</td>\n",
       "      <td>4943.290532</td>\n",
       "      <td>822.979965</td>\n",
       "      <td>34.000000</td>\n",
       "      <td>162.00000</td>\n",
       "      <td>1.000000</td>\n",
       "      <td>0.000000</td>\n",
       "      <td>0.000000</td>\n",
       "      <td>0.000000</td>\n",
       "      <td>0.000000</td>\n",
       "      <td>0.000000</td>\n",
       "      <td>34.000000</td>\n",
       "    </tr>\n",
       "    <tr>\n",
       "      <th>max</th>\n",
       "      <td>152.00000</td>\n",
       "      <td>3899.00000</td>\n",
       "      <td>6556.926577</td>\n",
       "      <td>1098.158096</td>\n",
       "      <td>44.000000</td>\n",
       "      <td>199.00000</td>\n",
       "      <td>1.000000</td>\n",
       "      <td>1.000000</td>\n",
       "      <td>1.000000</td>\n",
       "      <td>1.000000</td>\n",
       "      <td>1.000000</td>\n",
       "      <td>1.000000</td>\n",
       "      <td>44.000000</td>\n",
       "    </tr>\n",
       "  </tbody>\n",
       "</table>\n",
       "</div>"
      ],
      "text/plain": [
       "           PipeAge  PipeDiameter    PipeLength  PipeBreakage   PipeWallLos  \\\n",
       "count  10000.00000   10000.00000  10000.000000  10000.000000  10000.000000   \n",
       "mean      76.07370    1953.35430   3291.035385    547.255449     22.591500   \n",
       "std       43.94604    1109.98577   1896.660407    317.846802     12.786429   \n",
       "min        1.00000      20.00000      0.812309      0.284159      1.000000   \n",
       "25%       38.00000    1000.00000   1632.562399    268.842908     11.000000   \n",
       "50%       77.00000    1954.50000   3272.531037    549.593356     23.000000   \n",
       "75%      114.00000    2904.00000   4943.290532    822.979965     34.000000   \n",
       "max      152.00000    3899.00000   6556.926577   1098.158096     44.000000   \n",
       "\n",
       "       ExpectedPipeAge   Material_CI  Material_Concrete  \\\n",
       "count      10000.00000  10000.000000       10000.000000   \n",
       "mean         123.92630      0.547300           0.112400   \n",
       "std           43.94604      0.497783           0.315874   \n",
       "min           48.00000      0.000000           0.000000   \n",
       "25%           86.00000      0.000000           0.000000   \n",
       "50%          123.00000      1.000000           0.000000   \n",
       "75%          162.00000      1.000000           0.000000   \n",
       "max          199.00000      1.000000           1.000000   \n",
       "\n",
       "       Material_Ductile Iron  Material_PVC  Material_Polyethene  \\\n",
       "count           10000.000000  10000.000000         10000.000000   \n",
       "mean                0.048000      0.046700             0.068200   \n",
       "std                 0.213777      0.211006             0.252101   \n",
       "min                 0.000000      0.000000             0.000000   \n",
       "25%                 0.000000      0.000000             0.000000   \n",
       "50%                 0.000000      0.000000             0.000000   \n",
       "75%                 0.000000      0.000000             0.000000   \n",
       "max                 1.000000      1.000000             1.000000   \n",
       "\n",
       "       Material_Steel       PipeRUL  \n",
       "count    10000.000000  10000.000000  \n",
       "mean         0.066000     22.349400  \n",
       "std          0.248295     12.758182  \n",
       "min          0.000000      1.000000  \n",
       "25%          0.000000     11.000000  \n",
       "50%          0.000000     22.000000  \n",
       "75%          0.000000     34.000000  \n",
       "max          1.000000     44.000000  "
      ]
     },
     "execution_count": 5,
     "metadata": {},
     "output_type": "execute_result"
    }
   ],
   "source": [
    "data.describe()"
   ]
  },
  {
   "cell_type": "code",
   "execution_count": 6,
   "id": "572725c9",
   "metadata": {},
   "outputs": [
    {
     "data": {
      "text/plain": [
       "PipeAge                  0\n",
       "PipeDiameter             0\n",
       "PipeLength               0\n",
       "PipeBreakage             0\n",
       "PipeWallLos              0\n",
       "ExpectedPipeAge          0\n",
       "Material_CI              0\n",
       "Material_Concrete        0\n",
       "Material_Ductile Iron    0\n",
       "Material_PVC             0\n",
       "Material_Polyethene      0\n",
       "Material_Steel           0\n",
       "PipeRUL                  0\n",
       "dtype: int64"
      ]
     },
     "execution_count": 6,
     "metadata": {},
     "output_type": "execute_result"
    }
   ],
   "source": [
    "data.isnull().sum()"
   ]
  },
  {
   "cell_type": "code",
   "execution_count": 7,
   "id": "7413218b",
   "metadata": {
    "scrolled": true
   },
   "outputs": [
    {
     "data": {
      "image/png": "[encoded data removed]",
      "text/plain": [
       "<Figure size 432x288 with 1 Axes>"
      ]
     },
     "metadata": {
      "needs_background": "light"
     },
     "output_type": "display_data"
    }
   ],
   "source": [
    "plt.scatter(data['PipeAge'], data['PipeRUL'])\n",
    "plt.title('Scatter plot')\n",
    "plt.xlabel('PipeAge')\n",
    "plt.ylabel('PipeRUL')\n",
    "plt.show()"
   ]
  },
  {
   "cell_type": "code",
   "execution_count": 8,
   "id": "088acdc7",
   "metadata": {},
   "outputs": [],
   "source": [
    "X_data = data.iloc[ :,0:12]\n",
    "\n"
   ]
  },
  {
   "cell_type": "code",
   "execution_count": 9,
   "id": "6e8b0960",
   "metadata": {},
   "outputs": [
    {
     "data": {
      "text/plain": [
       "Index(['PipeAge', 'PipeDiameter', 'PipeLength', 'PipeBreakage', 'PipeWallLos',\n",
       "       'ExpectedPipeAge', 'Material_CI', 'Material_Concrete',\n",
       "       'Material_Ductile Iron', 'Material_PVC', 'Material_Polyethene',\n",
       "       'Material_Steel'],\n",
       "      dtype='object')"
      ]
     },
     "execution_count": 9,
     "metadata": {},
     "output_type": "execute_result"
    }
   ],
   "source": [
    "X_data.columns"
   ]
  },
  {
   "cell_type": "code",
   "execution_count": 10,
   "id": "80a6bd62",
   "metadata": {},
   "outputs": [],
   "source": [
    "Y_data = data.iloc[ :,12]"
   ]
  },
  {
   "cell_type": "code",
   "execution_count": 11,
   "id": "4137c0b5",
   "metadata": {},
   "outputs": [
    {
     "name": "stdout",
     "output_type": "stream",
     "text": [
      "0       43\n",
      "1       24\n",
      "2       15\n",
      "3       23\n",
      "4        2\n",
      "        ..\n",
      "9995    34\n",
      "9996    38\n",
      "9997    13\n",
      "9998    20\n",
      "9999     1\n",
      "Name: PipeRUL, Length: 10000, dtype: int64\n"
     ]
    }
   ],
   "source": [
    "print(Y_data)"
   ]
  },
  {
   "cell_type": "code",
   "execution_count": 12,
   "id": "076d3f86",
   "metadata": {},
   "outputs": [],
   "source": [
    "model = XGBRegressor()"
   ]
  },
  {
   "cell_type": "code",
   "execution_count": 13,
   "id": "fe2a76b4",
   "metadata": {},
   "outputs": [],
   "source": [
    "cv = RepeatedKFold(n_splits=20, n_repeats=3, random_state=1)"
   ]
  },
  {
   "cell_type": "code",
   "execution_count": 17,
   "id": "bb573814",
   "metadata": {},
   "outputs": [
    {
     "name": "stdout",
     "output_type": "stream",
     "text": [
      "-11.461701711901027\n"
     ]
    }
   ],
   "source": [
    "scores = cross_val_score(model, X_data, Y_data, scoring='neg_mean_absolute_error', cv=cv, n_jobs=-1)\n",
    "\n",
    "def Average(lst):\n",
    "    return sum(lst) / len(lst)\n",
    "\n",
    "average_pred = Average(scores)\n",
    "print (average_pred)"
   ]
  },
  {
   "cell_type": "code",
   "execution_count": 15,
   "id": "1343681e",
   "metadata": {},
   "outputs": [
    {
     "name": "stdout",
     "output_type": "stream",
     "text": [
      "Mean MAE: 11.462 (0.274)\n"
     ]
    }
   ],
   "source": [
    "scores = absolute(scores)\n",
    "print('Mean MAE: %.3f (%.3f)' % (scores.mean(), scores.std()) )"
   ]
  },
  {
   "cell_type": "code",
   "execution_count": 16,
   "id": "07f2b5fc",
   "metadata": {},
   "outputs": [],
   "source": [
    "scores = cross_val_score(model, X_data, Y_data, scoring='neg_mean_squared_error', cv=cv, n_jobs=-1)"
   ]
  },
  {
   "cell_type": "code",
   "execution_count": 25,
   "id": "7b3b13bc",
   "metadata": {},
   "outputs": [
    {
     "name": "stdout",
     "output_type": "stream",
     "text": [
      "[-174.69532661 -177.91772278 -182.14806473 -179.23251839 -179.20261055\n",
      " -183.10521283 -190.43660765 -176.076684   -181.25299443 -178.17515893\n",
      " -172.93809792 -192.6085794  -178.63973454 -173.39500462 -190.35303547\n",
      " -190.85725872 -164.77392459 -177.98185391 -183.7401271  -168.51261244\n",
      " -184.92559968 -175.54665209 -174.79454431 -179.64930068 -184.048078\n",
      " -187.73144295 -167.69312487 -180.45801732 -174.60026324 -194.73779258\n",
      " -184.70193919 -189.29116407 -182.40144438 -176.90340752 -180.62014072\n",
      " -182.76524015 -190.71321892 -173.85623298 -180.8749897  -169.52755507\n",
      " -187.19743453 -176.24460743 -170.73728131 -191.8983403  -180.28982612\n",
      " -188.4971106  -179.11061132 -168.23404122 -178.76749098 -189.61945168\n",
      " -185.41165811 -179.04564994 -171.02095585 -179.79014747 -172.28454028\n",
      " -182.82037806 -180.00824247 -182.88296222 -181.98111186 -181.40998305]\n"
     ]
    }
   ],
   "source": [
    "print(scores)"
   ]
  },
  {
   "cell_type": "code",
   "execution_count": 26,
   "id": "8cfc2b24",
   "metadata": {},
   "outputs": [
    {
     "name": "stdout",
     "output_type": "stream",
     "text": [
      "Mean MSE: 180.319 (6.787)\n"
     ]
    }
   ],
   "source": [
    "scores = absolute(scores)\n",
    "print('Mean MSE: %.3f (%.3f)' % (scores.mean(), scores.std()) )"
   ]
  },
  {
   "cell_type": "code",
   "execution_count": 27,
   "id": "0b41d478",
   "metadata": {},
   "outputs": [],
   "source": [
    "rmse =  np.sqrt(scores.mean())"
   ]
  },
  {
   "cell_type": "code",
   "execution_count": 20,
   "id": "d781e5c9",
   "metadata": {},
   "outputs": [
    {
     "data": {
      "text/plain": [
       "13.481420113547369"
      ]
     },
     "execution_count": 20,
     "metadata": {},
     "output_type": "execute_result"
    }
   ],
   "source": [
    "rmse"
   ]
  },
  {
   "cell_type": "code",
   "execution_count": null,
   "id": "d3b26f51",
   "metadata": {},
   "outputs": [],
   "source": []
  }
 ],
 "metadata": {
  "kernelspec": {
   "display_name": "Python 3",
   "language": "python",
   "name": "python3"
  },
  "language_info": {
   "codemirror_mode": {
    "name": "ipython",
    "version": 3
   },
   "file_extension": ".py",
   "mimetype": "text/x-python",
   "name": "python",
   "nbconvert_exporter": "python",
   "pygments_lexer": "ipython3",
   "version": "3.7.9"
  }
 },
 "nbformat": 4,
 "nbformat_minor": 5
}
