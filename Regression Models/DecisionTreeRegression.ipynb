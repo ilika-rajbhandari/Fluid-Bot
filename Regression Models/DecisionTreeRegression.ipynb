{
 "cells": [
  {
   "cell_type": "code",
   "execution_count": 4,
   "id": "49ad952f",
   "metadata": {},
   "outputs": [],
   "source": [
    "import numpy as np\n",
    "import matplotlib.pyplot as plt\n",
    "import pandas as pd \n",
    "from scipy import stats\n",
    "\n",
    "\n",
    "from sklearn.model_selection import train_test_split\n",
    "from sklearn.tree import DecisionTreeRegressor \n",
    "import statsmodels.api as sm\n",
    "from IPython import get_ipython\n",
    "  \n",
    "from matplotlib.pylab import plt #load plot library\n",
    "# indicate the output of plotting function is printed to the notebook\n",
    "get_ipython().run_line_magic('matplotlib', 'inline')\n"
   ]
  },
  {
   "cell_type": "code",
   "execution_count": 5,
   "id": "b8f28da5",
   "metadata": {},
   "outputs": [
    {
     "data": {
      "text/html": [
       "<div>\n",
       "<style scoped>\n",
       "    .dataframe tbody tr th:only-of-type {\n",
       "        vertical-align: middle;\n",
       "    }\n",
       "\n",
       "    .dataframe tbody tr th {\n",
       "        vertical-align: top;\n",
       "    }\n",
       "\n",
       "    .dataframe thead th {\n",
       "        text-align: right;\n",
       "    }\n",
       "</style>\n",
       "<table border=\"1\" class=\"dataframe\">\n",
       "  <thead>\n",
       "    <tr style=\"text-align: right;\">\n",
       "      <th></th>\n",
       "      <th>PipeAge</th>\n",
       "      <th>PipeDiameter</th>\n",
       "      <th>PipeLength</th>\n",
       "      <th>PipeBreakage</th>\n",
       "      <th>PipeWallLos</th>\n",
       "      <th>ExpectedPipeAge</th>\n",
       "      <th>Material_CI</th>\n",
       "      <th>Material_Concrete</th>\n",
       "      <th>Material_Ductile Iron</th>\n",
       "      <th>Material_PVC</th>\n",
       "      <th>Material_Polyethene</th>\n",
       "      <th>Material_Steel</th>\n",
       "      <th>PipeRUL</th>\n",
       "    </tr>\n",
       "  </thead>\n",
       "  <tbody>\n",
       "    <tr>\n",
       "      <th>0</th>\n",
       "      <td>151</td>\n",
       "      <td>1682</td>\n",
       "      <td>4880.722405</td>\n",
       "      <td>928.382088</td>\n",
       "      <td>35</td>\n",
       "      <td>49</td>\n",
       "      <td>1</td>\n",
       "      <td>0</td>\n",
       "      <td>0</td>\n",
       "      <td>0</td>\n",
       "      <td>0</td>\n",
       "      <td>0</td>\n",
       "      <td>43</td>\n",
       "    </tr>\n",
       "    <tr>\n",
       "      <th>1</th>\n",
       "      <td>80</td>\n",
       "      <td>3865</td>\n",
       "      <td>1940.107485</td>\n",
       "      <td>98.755500</td>\n",
       "      <td>41</td>\n",
       "      <td>120</td>\n",
       "      <td>1</td>\n",
       "      <td>0</td>\n",
       "      <td>0</td>\n",
       "      <td>0</td>\n",
       "      <td>0</td>\n",
       "      <td>0</td>\n",
       "      <td>24</td>\n",
       "    </tr>\n",
       "    <tr>\n",
       "      <th>2</th>\n",
       "      <td>74</td>\n",
       "      <td>1659</td>\n",
       "      <td>2599.669467</td>\n",
       "      <td>751.541033</td>\n",
       "      <td>27</td>\n",
       "      <td>126</td>\n",
       "      <td>1</td>\n",
       "      <td>0</td>\n",
       "      <td>0</td>\n",
       "      <td>0</td>\n",
       "      <td>0</td>\n",
       "      <td>0</td>\n",
       "      <td>15</td>\n",
       "    </tr>\n",
       "    <tr>\n",
       "      <th>3</th>\n",
       "      <td>132</td>\n",
       "      <td>3196</td>\n",
       "      <td>1468.885640</td>\n",
       "      <td>570.858471</td>\n",
       "      <td>13</td>\n",
       "      <td>68</td>\n",
       "      <td>0</td>\n",
       "      <td>1</td>\n",
       "      <td>0</td>\n",
       "      <td>0</td>\n",
       "      <td>0</td>\n",
       "      <td>0</td>\n",
       "      <td>23</td>\n",
       "    </tr>\n",
       "    <tr>\n",
       "      <th>4</th>\n",
       "      <td>125</td>\n",
       "      <td>2374</td>\n",
       "      <td>746.420442</td>\n",
       "      <td>1066.889783</td>\n",
       "      <td>5</td>\n",
       "      <td>75</td>\n",
       "      <td>0</td>\n",
       "      <td>0</td>\n",
       "      <td>1</td>\n",
       "      <td>0</td>\n",
       "      <td>0</td>\n",
       "      <td>0</td>\n",
       "      <td>2</td>\n",
       "    </tr>\n",
       "  </tbody>\n",
       "</table>\n",
       "</div>"
      ],
      "text/plain": [
       "   PipeAge  PipeDiameter   PipeLength  PipeBreakage  PipeWallLos  \\\n",
       "0      151          1682  4880.722405    928.382088           35   \n",
       "1       80          3865  1940.107485     98.755500           41   \n",
       "2       74          1659  2599.669467    751.541033           27   \n",
       "3      132          3196  1468.885640    570.858471           13   \n",
       "4      125          2374   746.420442   1066.889783            5   \n",
       "\n",
       "   ExpectedPipeAge  Material_CI  Material_Concrete  Material_Ductile Iron  \\\n",
       "0               49            1                  0                      0   \n",
       "1              120            1                  0                      0   \n",
       "2              126            1                  0                      0   \n",
       "3               68            0                  1                      0   \n",
       "4               75            0                  0                      1   \n",
       "\n",
       "   Material_PVC  Material_Polyethene  Material_Steel  PipeRUL  \n",
       "0             0                    0               0       43  \n",
       "1             0                    0               0       24  \n",
       "2             0                    0               0       15  \n",
       "3             0                    0               0       23  \n",
       "4             0                    0               0        2  "
      ]
     },
     "execution_count": 5,
     "metadata": {},
     "output_type": "execute_result"
    }
   ],
   "source": [
    "data = pd.read_csv('C:/Users/dgarg/Desktop/aging/PipeDataset.csv')\n",
    "data.head()"
   ]
  },
  {
   "cell_type": "code",
   "execution_count": 6,
   "id": "73275428",
   "metadata": {},
   "outputs": [
    {
     "data": {
      "text/plain": [
       "PipeAge                   151.000000\n",
       "PipeDiameter             1682.000000\n",
       "PipeLength               4880.722405\n",
       "PipeBreakage              928.382088\n",
       "PipeWallLos                35.000000\n",
       "ExpectedPipeAge            49.000000\n",
       "Material_CI                 1.000000\n",
       "Material_Concrete           0.000000\n",
       "Material_Ductile Iron       0.000000\n",
       "Material_PVC                0.000000\n",
       "Material_Polyethene         0.000000\n",
       "Material_Steel              0.000000\n",
       "PipeRUL                    43.000000\n",
       "Name: 0, dtype: float64"
      ]
     },
     "execution_count": 6,
     "metadata": {},
     "output_type": "execute_result"
    }
   ],
   "source": [
    "data.iloc[0]"
   ]
  },
  {
   "cell_type": "code",
   "execution_count": 7,
   "id": "a2e57383",
   "metadata": {},
   "outputs": [
    {
     "name": "stdout",
     "output_type": "stream",
     "text": [
      "(10000, 13)\n"
     ]
    },
    {
     "data": {
      "text/plain": [
       "PipeAge                    int64\n",
       "PipeDiameter               int64\n",
       "PipeLength               float64\n",
       "PipeBreakage             float64\n",
       "PipeWallLos                int64\n",
       "ExpectedPipeAge            int64\n",
       "Material_CI                int64\n",
       "Material_Concrete          int64\n",
       "Material_Ductile Iron      int64\n",
       "Material_PVC               int64\n",
       "Material_Polyethene        int64\n",
       "Material_Steel             int64\n",
       "PipeRUL                    int64\n",
       "dtype: object"
      ]
     },
     "execution_count": 7,
     "metadata": {},
     "output_type": "execute_result"
    }
   ],
   "source": [
    "print(data.shape)\n",
    "data.head(2)\n",
    "data.dtypes\n",
    "\n"
   ]
  },
  {
   "cell_type": "code",
   "execution_count": 8,
   "id": "c34a4d7c",
   "metadata": {},
   "outputs": [
    {
     "data": {
      "text/html": [
       "<div>\n",
       "<style scoped>\n",
       "    .dataframe tbody tr th:only-of-type {\n",
       "        vertical-align: middle;\n",
       "    }\n",
       "\n",
       "    .dataframe tbody tr th {\n",
       "        vertical-align: top;\n",
       "    }\n",
       "\n",
       "    .dataframe thead th {\n",
       "        text-align: right;\n",
       "    }\n",
       "</style>\n",
       "<table border=\"1\" class=\"dataframe\">\n",
       "  <thead>\n",
       "    <tr style=\"text-align: right;\">\n",
       "      <th></th>\n",
       "      <th>PipeAge</th>\n",
       "      <th>PipeDiameter</th>\n",
       "      <th>PipeLength</th>\n",
       "      <th>PipeBreakage</th>\n",
       "      <th>PipeWallLos</th>\n",
       "      <th>ExpectedPipeAge</th>\n",
       "      <th>Material_CI</th>\n",
       "      <th>Material_Concrete</th>\n",
       "      <th>Material_Ductile Iron</th>\n",
       "      <th>Material_PVC</th>\n",
       "      <th>Material_Polyethene</th>\n",
       "      <th>Material_Steel</th>\n",
       "      <th>PipeRUL</th>\n",
       "    </tr>\n",
       "  </thead>\n",
       "  <tbody>\n",
       "    <tr>\n",
       "      <th>count</th>\n",
       "      <td>10000.00000</td>\n",
       "      <td>10000.00000</td>\n",
       "      <td>10000.000000</td>\n",
       "      <td>10000.000000</td>\n",
       "      <td>10000.000000</td>\n",
       "      <td>10000.00000</td>\n",
       "      <td>10000.000000</td>\n",
       "      <td>10000.000000</td>\n",
       "      <td>10000.000000</td>\n",
       "      <td>10000.000000</td>\n",
       "      <td>10000.000000</td>\n",
       "      <td>10000.000000</td>\n",
       "      <td>10000.000000</td>\n",
       "    </tr>\n",
       "    <tr>\n",
       "      <th>mean</th>\n",
       "      <td>76.07370</td>\n",
       "      <td>1953.35430</td>\n",
       "      <td>3291.035385</td>\n",
       "      <td>547.255449</td>\n",
       "      <td>22.591500</td>\n",
       "      <td>123.92630</td>\n",
       "      <td>0.547300</td>\n",
       "      <td>0.112400</td>\n",
       "      <td>0.048000</td>\n",
       "      <td>0.046700</td>\n",
       "      <td>0.068200</td>\n",
       "      <td>0.066000</td>\n",
       "      <td>22.349400</td>\n",
       "    </tr>\n",
       "    <tr>\n",
       "      <th>std</th>\n",
       "      <td>43.94604</td>\n",
       "      <td>1109.98577</td>\n",
       "      <td>1896.660407</td>\n",
       "      <td>317.846802</td>\n",
       "      <td>12.786429</td>\n",
       "      <td>43.94604</td>\n",
       "      <td>0.497783</td>\n",
       "      <td>0.315874</td>\n",
       "      <td>0.213777</td>\n",
       "      <td>0.211006</td>\n",
       "      <td>0.252101</td>\n",
       "      <td>0.248295</td>\n",
       "      <td>12.758182</td>\n",
       "    </tr>\n",
       "    <tr>\n",
       "      <th>min</th>\n",
       "      <td>1.00000</td>\n",
       "      <td>20.00000</td>\n",
       "      <td>0.812309</td>\n",
       "      <td>0.284159</td>\n",
       "      <td>1.000000</td>\n",
       "      <td>48.00000</td>\n",
       "      <td>0.000000</td>\n",
       "      <td>0.000000</td>\n",
       "      <td>0.000000</td>\n",
       "      <td>0.000000</td>\n",
       "      <td>0.000000</td>\n",
       "      <td>0.000000</td>\n",
       "      <td>1.000000</td>\n",
       "    </tr>\n",
       "    <tr>\n",
       "      <th>25%</th>\n",
       "      <td>38.00000</td>\n",
       "      <td>1000.00000</td>\n",
       "      <td>1632.562399</td>\n",
       "      <td>268.842908</td>\n",
       "      <td>11.000000</td>\n",
       "      <td>86.00000</td>\n",
       "      <td>0.000000</td>\n",
       "      <td>0.000000</td>\n",
       "      <td>0.000000</td>\n",
       "      <td>0.000000</td>\n",
       "      <td>0.000000</td>\n",
       "      <td>0.000000</td>\n",
       "      <td>11.000000</td>\n",
       "    </tr>\n",
       "    <tr>\n",
       "      <th>50%</th>\n",
       "      <td>77.00000</td>\n",
       "      <td>1954.50000</td>\n",
       "      <td>3272.531037</td>\n",
       "      <td>549.593356</td>\n",
       "      <td>23.000000</td>\n",
       "      <td>123.00000</td>\n",
       "      <td>1.000000</td>\n",
       "      <td>0.000000</td>\n",
       "      <td>0.000000</td>\n",
       "      <td>0.000000</td>\n",
       "      <td>0.000000</td>\n",
       "      <td>0.000000</td>\n",
       "      <td>22.000000</td>\n",
       "    </tr>\n",
       "    <tr>\n",
       "      <th>75%</th>\n",
       "      <td>114.00000</td>\n",
       "      <td>2904.00000</td>\n",
       "      <td>4943.290532</td>\n",
       "      <td>822.979965</td>\n",
       "      <td>34.000000</td>\n",
       "      <td>162.00000</td>\n",
       "      <td>1.000000</td>\n",
       "      <td>0.000000</td>\n",
       "      <td>0.000000</td>\n",
       "      <td>0.000000</td>\n",
       "      <td>0.000000</td>\n",
       "      <td>0.000000</td>\n",
       "      <td>34.000000</td>\n",
       "    </tr>\n",
       "    <tr>\n",
       "      <th>max</th>\n",
       "      <td>152.00000</td>\n",
       "      <td>3899.00000</td>\n",
       "      <td>6556.926577</td>\n",
       "      <td>1098.158096</td>\n",
       "      <td>44.000000</td>\n",
       "      <td>199.00000</td>\n",
       "      <td>1.000000</td>\n",
       "      <td>1.000000</td>\n",
       "      <td>1.000000</td>\n",
       "      <td>1.000000</td>\n",
       "      <td>1.000000</td>\n",
       "      <td>1.000000</td>\n",
       "      <td>44.000000</td>\n",
       "    </tr>\n",
       "  </tbody>\n",
       "</table>\n",
       "</div>"
      ],
      "text/plain": [
       "           PipeAge  PipeDiameter    PipeLength  PipeBreakage   PipeWallLos  \\\n",
       "count  10000.00000   10000.00000  10000.000000  10000.000000  10000.000000   \n",
       "mean      76.07370    1953.35430   3291.035385    547.255449     22.591500   \n",
       "std       43.94604    1109.98577   1896.660407    317.846802     12.786429   \n",
       "min        1.00000      20.00000      0.812309      0.284159      1.000000   \n",
       "25%       38.00000    1000.00000   1632.562399    268.842908     11.000000   \n",
       "50%       77.00000    1954.50000   3272.531037    549.593356     23.000000   \n",
       "75%      114.00000    2904.00000   4943.290532    822.979965     34.000000   \n",
       "max      152.00000    3899.00000   6556.926577   1098.158096     44.000000   \n",
       "\n",
       "       ExpectedPipeAge   Material_CI  Material_Concrete  \\\n",
       "count      10000.00000  10000.000000       10000.000000   \n",
       "mean         123.92630      0.547300           0.112400   \n",
       "std           43.94604      0.497783           0.315874   \n",
       "min           48.00000      0.000000           0.000000   \n",
       "25%           86.00000      0.000000           0.000000   \n",
       "50%          123.00000      1.000000           0.000000   \n",
       "75%          162.00000      1.000000           0.000000   \n",
       "max          199.00000      1.000000           1.000000   \n",
       "\n",
       "       Material_Ductile Iron  Material_PVC  Material_Polyethene  \\\n",
       "count           10000.000000  10000.000000         10000.000000   \n",
       "mean                0.048000      0.046700             0.068200   \n",
       "std                 0.213777      0.211006             0.252101   \n",
       "min                 0.000000      0.000000             0.000000   \n",
       "25%                 0.000000      0.000000             0.000000   \n",
       "50%                 0.000000      0.000000             0.000000   \n",
       "75%                 0.000000      0.000000             0.000000   \n",
       "max                 1.000000      1.000000             1.000000   \n",
       "\n",
       "       Material_Steel       PipeRUL  \n",
       "count    10000.000000  10000.000000  \n",
       "mean         0.066000     22.349400  \n",
       "std          0.248295     12.758182  \n",
       "min          0.000000      1.000000  \n",
       "25%          0.000000     11.000000  \n",
       "50%          0.000000     22.000000  \n",
       "75%          0.000000     34.000000  \n",
       "max          1.000000     44.000000  "
      ]
     },
     "execution_count": 8,
     "metadata": {},
     "output_type": "execute_result"
    }
   ],
   "source": [
    "data.describe()"
   ]
  },
  {
   "cell_type": "code",
   "execution_count": 9,
   "id": "572725c9",
   "metadata": {},
   "outputs": [
    {
     "data": {
      "text/plain": [
       "PipeAge                  0\n",
       "PipeDiameter             0\n",
       "PipeLength               0\n",
       "PipeBreakage             0\n",
       "PipeWallLos              0\n",
       "ExpectedPipeAge          0\n",
       "Material_CI              0\n",
       "Material_Concrete        0\n",
       "Material_Ductile Iron    0\n",
       "Material_PVC             0\n",
       "Material_Polyethene      0\n",
       "Material_Steel           0\n",
       "PipeRUL                  0\n",
       "dtype: int64"
      ]
     },
     "execution_count": 9,
     "metadata": {},
     "output_type": "execute_result"
    }
   ],
   "source": [
    "data.isnull().sum()"
   ]
  },
  {
   "cell_type": "code",
   "execution_count": 10,
   "id": "7413218b",
   "metadata": {
    "scrolled": true
   },
   "outputs": [
    {
     "data": {
      "image/png": "[encoded data removed]",
      "text/plain": [
       "<Figure size 432x288 with 1 Axes>"
      ]
     },
     "metadata": {
      "needs_background": "light"
     },
     "output_type": "display_data"
    }
   ],
   "source": [
    "plt.scatter(data['PipeAge'], data['PipeRUL'])\n",
    "plt.title('Scatter plot')\n",
    "plt.xlabel('PipeAge')\n",
    "plt.ylabel('PipeRUL')\n",
    "plt.show()"
   ]
  },
  {
   "cell_type": "code",
   "execution_count": 11,
   "id": "088acdc7",
   "metadata": {},
   "outputs": [],
   "source": [
    "X_data = data.iloc[ :,0:12]\n",
    "\n"
   ]
  },
  {
   "cell_type": "code",
   "execution_count": 12,
   "id": "6e8b0960",
   "metadata": {},
   "outputs": [
    {
     "data": {
      "text/plain": [
       "Index(['PipeAge', 'PipeDiameter', 'PipeLength', 'PipeBreakage', 'PipeWallLos',\n",
       "       'ExpectedPipeAge', 'Material_CI', 'Material_Concrete',\n",
       "       'Material_Ductile Iron', 'Material_PVC', 'Material_Polyethene',\n",
       "       'Material_Steel'],\n",
       "      dtype='object')"
      ]
     },
     "execution_count": 12,
     "metadata": {},
     "output_type": "execute_result"
    }
   ],
   "source": [
    "X_data.columns"
   ]
  },
  {
   "cell_type": "code",
   "execution_count": 13,
   "id": "80a6bd62",
   "metadata": {},
   "outputs": [],
   "source": [
    "Y_data = data.iloc[ :,12]"
   ]
  },
  {
   "cell_type": "code",
   "execution_count": 14,
   "id": "4137c0b5",
   "metadata": {},
   "outputs": [
    {
     "name": "stdout",
     "output_type": "stream",
     "text": [
      "0       43\n",
      "1       24\n",
      "2       15\n",
      "3       23\n",
      "4        2\n",
      "        ..\n",
      "9995    34\n",
      "9996    38\n",
      "9997    13\n",
      "9998    20\n",
      "9999     1\n",
      "Name: PipeRUL, Length: 10000, dtype: int64\n"
     ]
    }
   ],
   "source": [
    "print(Y_data)"
   ]
  },
  {
   "cell_type": "code",
   "execution_count": 52,
   "id": "ad02933f",
   "metadata": {},
   "outputs": [
    {
     "name": "stdout",
     "output_type": "stream",
     "text": [
      "(5000, 12)\n",
      "(5000, 12)\n",
      "(5000,)\n",
      "(5000,)\n"
     ]
    }
   ],
   "source": [
    "X_train, X_test, y_train, y_test = train_test_split(X_data, Y_data, test_size = 0.5,\n",
    "                                                   random_state = 0)\n",
    "print(X_train.shape)\n",
    "print(X_test.shape)\n",
    "print(y_train.shape)\n",
    "print(y_test.shape)"
   ]
  },
  {
   "cell_type": "code",
   "execution_count": 53,
   "id": "076d3f86",
   "metadata": {},
   "outputs": [],
   "source": [
    "import sklearn.tree as tree\n",
    "regressor = tree.DecisionTreeRegressor( random_state=0, max_depth = 3)"
   ]
  },
  {
   "cell_type": "code",
   "execution_count": 54,
   "id": "bf24475b",
   "metadata": {},
   "outputs": [
    {
     "data": {
      "text/plain": [
       "DecisionTreeRegressor(max_depth=3, random_state=0)"
      ]
     },
     "execution_count": 54,
     "metadata": {},
     "output_type": "execute_result"
    }
   ],
   "source": [
    "regressor.fit(X_train, y_train)"
   ]
  },
  {
   "cell_type": "code",
   "execution_count": 55,
   "id": "0ad2c201",
   "metadata": {},
   "outputs": [],
   "source": [
    "a = regressor.fit(X_train, y_train)"
   ]
  },
  {
   "cell_type": "code",
   "execution_count": 56,
   "id": "f337bf90",
   "metadata": {},
   "outputs": [
    {
     "data": {
      "text/plain": [
       "array([22.14304993, 22.07528011, 23.91489362, 22.07528011, 22.07528011])"
      ]
     },
     "execution_count": 56,
     "metadata": {},
     "output_type": "execute_result"
    }
   ],
   "source": [
    "a.predict(X_train)[0:5]"
   ]
  },
  {
   "cell_type": "code",
   "execution_count": 57,
   "id": "397b82ec",
   "metadata": {},
   "outputs": [
    {
     "data": {
      "text/plain": [
       "array([22.14304993, 22.07528011, 23.91489362, ..., 22.07528011,\n",
       "       22.07528011, 23.8869258 ])"
      ]
     },
     "execution_count": 57,
     "metadata": {},
     "output_type": "execute_result"
    }
   ],
   "source": [
    "a.predict(X_train)"
   ]
  },
  {
   "cell_type": "code",
   "execution_count": 58,
   "id": "74ac8dec",
   "metadata": {},
   "outputs": [
    {
     "data": {
      "text/plain": [
       "-0.01410189220636826"
      ]
     },
     "execution_count": 58,
     "metadata": {},
     "output_type": "execute_result"
    }
   ],
   "source": [
    "regressor.score(X_test,y_test)"
   ]
  },
  {
   "cell_type": "code",
   "execution_count": 59,
   "id": "b9fa8cb9",
   "metadata": {},
   "outputs": [
    {
     "data": {
      "text/plain": [
       "array([0.18589367, 0.15513411, 0.3500586 , 0.16662292, 0.        ,\n",
       "       0.14229071, 0.        , 0.        , 0.        , 0.        ,\n",
       "       0.        , 0.        ])"
      ]
     },
     "execution_count": 59,
     "metadata": {},
     "output_type": "execute_result"
    }
   ],
   "source": [
    "regressor.feature_importances_\n"
   ]
  },
  {
   "cell_type": "code",
   "execution_count": 60,
   "id": "77b5863c",
   "metadata": {},
   "outputs": [
    {
     "data": {
      "text/plain": [
       "Index(['PipeAge', 'PipeDiameter', 'PipeLength', 'PipeBreakage', 'PipeWallLos',\n",
       "       'ExpectedPipeAge', 'Material_CI', 'Material_Concrete',\n",
       "       'Material_Ductile Iron', 'Material_PVC', 'Material_Polyethene',\n",
       "       'Material_Steel'],\n",
       "      dtype='object')"
      ]
     },
     "execution_count": 60,
     "metadata": {},
     "output_type": "execute_result"
    }
   ],
   "source": [
    "X_data.columns"
   ]
  },
  {
   "cell_type": "code",
   "execution_count": 61,
   "id": "63a69fc6",
   "metadata": {},
   "outputs": [
    {
     "data": {
      "text/plain": [
       "PipeLength         0.350059\n",
       "PipeAge            0.185894\n",
       "PipeBreakage       0.166623\n",
       "PipeDiameter       0.155134\n",
       "ExpectedPipeAge    0.142291\n",
       "dtype: float64"
      ]
     },
     "execution_count": 61,
     "metadata": {},
     "output_type": "execute_result"
    }
   ],
   "source": [
    "pd.Series(regressor.feature_importances_,index=X_data.columns).sort_values(ascending=False).head(5)"
   ]
  },
  {
   "cell_type": "code",
   "execution_count": 62,
   "id": "6e83204f",
   "metadata": {},
   "outputs": [],
   "source": [
    "import pydotplus\n",
    "import os\n",
    "os.environ[\"PATH\"] += os.pathsep + 'C:/Program Files/Graphviz/bin/'"
   ]
  },
  {
   "cell_type": "code",
   "execution_count": 63,
   "id": "6b5e2613",
   "metadata": {},
   "outputs": [
    {
     "data": {
      "image/png": "[encoded data removed]",
      "text/plain": [
       "<IPython.core.display.Image object>"
      ]
     },
     "execution_count": 63,
     "metadata": {},
     "output_type": "execute_result"
    }
   ],
   "source": [
    "dot_data = tree.export_graphviz(regressor, out_file=None, \n",
    "                         feature_names=X_data.columns,  \n",
    "                         filled=True, rounded=True,  \n",
    "                         special_characters=True)\n",
    "graph = pydotplus.graph_from_dot_data(dot_data) \n",
    "\n",
    "\n",
    "# In[25]:\n",
    "\n",
    "\n",
    "from IPython.display import Image\n",
    "\n",
    "\n",
    "# In[26]:\n",
    "\n",
    "\n",
    "Image(graph.create_png())"
   ]
  },
  {
   "cell_type": "code",
   "execution_count": 64,
   "id": "81bc9d6f",
   "metadata": {},
   "outputs": [],
   "source": [
    "y_pred = regressor.predict(X_test)"
   ]
  },
  {
   "cell_type": "code",
   "execution_count": 65,
   "id": "ad9421dd",
   "metadata": {},
   "outputs": [],
   "source": [
    "df=pd.DataFrame({'Actual':y_test, 'Predicted':y_pred})"
   ]
  },
  {
   "cell_type": "code",
   "execution_count": 66,
   "id": "94c9a992",
   "metadata": {
    "scrolled": true
   },
   "outputs": [
    {
     "data": {
      "text/html": [
       "<div>\n",
       "<style scoped>\n",
       "    .dataframe tbody tr th:only-of-type {\n",
       "        vertical-align: middle;\n",
       "    }\n",
       "\n",
       "    .dataframe tbody tr th {\n",
       "        vertical-align: top;\n",
       "    }\n",
       "\n",
       "    .dataframe thead th {\n",
       "        text-align: right;\n",
       "    }\n",
       "</style>\n",
       "<table border=\"1\" class=\"dataframe\">\n",
       "  <thead>\n",
       "    <tr style=\"text-align: right;\">\n",
       "      <th></th>\n",
       "      <th>Actual</th>\n",
       "      <th>Predicted</th>\n",
       "    </tr>\n",
       "  </thead>\n",
       "  <tbody>\n",
       "    <tr>\n",
       "      <th>9394</th>\n",
       "      <td>22</td>\n",
       "      <td>22.075280</td>\n",
       "    </tr>\n",
       "    <tr>\n",
       "      <th>898</th>\n",
       "      <td>39</td>\n",
       "      <td>22.143050</td>\n",
       "    </tr>\n",
       "    <tr>\n",
       "      <th>2398</th>\n",
       "      <td>28</td>\n",
       "      <td>22.143050</td>\n",
       "    </tr>\n",
       "    <tr>\n",
       "      <th>5906</th>\n",
       "      <td>13</td>\n",
       "      <td>22.143050</td>\n",
       "    </tr>\n",
       "    <tr>\n",
       "      <th>2343</th>\n",
       "      <td>14</td>\n",
       "      <td>22.143050</td>\n",
       "    </tr>\n",
       "    <tr>\n",
       "      <th>...</th>\n",
       "      <td>...</td>\n",
       "      <td>...</td>\n",
       "    </tr>\n",
       "    <tr>\n",
       "      <th>3996</th>\n",
       "      <td>1</td>\n",
       "      <td>22.143050</td>\n",
       "    </tr>\n",
       "    <tr>\n",
       "      <th>5889</th>\n",
       "      <td>23</td>\n",
       "      <td>22.143050</td>\n",
       "    </tr>\n",
       "    <tr>\n",
       "      <th>4577</th>\n",
       "      <td>24</td>\n",
       "      <td>22.143050</td>\n",
       "    </tr>\n",
       "    <tr>\n",
       "      <th>8600</th>\n",
       "      <td>22</td>\n",
       "      <td>22.075280</td>\n",
       "    </tr>\n",
       "    <tr>\n",
       "      <th>847</th>\n",
       "      <td>19</td>\n",
       "      <td>19.373913</td>\n",
       "    </tr>\n",
       "  </tbody>\n",
       "</table>\n",
       "<p>5000 rows × 2 columns</p>\n",
       "</div>"
      ],
      "text/plain": [
       "      Actual  Predicted\n",
       "9394      22  22.075280\n",
       "898       39  22.143050\n",
       "2398      28  22.143050\n",
       "5906      13  22.143050\n",
       "2343      14  22.143050\n",
       "...      ...        ...\n",
       "3996       1  22.143050\n",
       "5889      23  22.143050\n",
       "4577      24  22.143050\n",
       "8600      22  22.075280\n",
       "847       19  19.373913\n",
       "\n",
       "[5000 rows x 2 columns]"
      ]
     },
     "execution_count": 66,
     "metadata": {},
     "output_type": "execute_result"
    }
   ],
   "source": [
    "df"
   ]
  },
  {
   "cell_type": "code",
   "execution_count": 67,
   "id": "2f54c1e4",
   "metadata": {},
   "outputs": [],
   "source": [
    "from sklearn import metrics\n",
    "import numpy as np"
   ]
  },
  {
   "cell_type": "code",
   "execution_count": 68,
   "id": "31a0b7b0",
   "metadata": {},
   "outputs": [
    {
     "name": "stdout",
     "output_type": "stream",
     "text": [
      "Mean Absolute Error: 11.004489273936489\n",
      "Mean Squared Error: 162.86395159272706\n",
      "Root Mean Squared Error: 12.761816155732971\n"
     ]
    }
   ],
   "source": [
    "print('Mean Absolute Error:', metrics.mean_absolute_error(y_test, y_pred))\n",
    "print('Mean Squared Error:', metrics.mean_squared_error(y_test, y_pred))\n",
    "print('Root Mean Squared Error:', np.sqrt(metrics.mean_squared_error(y_test, y_pred)))"
   ]
  },
  {
   "cell_type": "code",
   "execution_count": null,
   "id": "07f2b5fc",
   "metadata": {},
   "outputs": [],
   "source": []
  }
 ],
 "metadata": {
  "kernelspec": {
   "display_name": "Python 3",
   "language": "python",
   "name": "python3"
  },
  "language_info": {
   "codemirror_mode": {
    "name": "ipython",
    "version": 3
   },
   "file_extension": ".py",
   "mimetype": "text/x-python",
   "name": "python",
   "nbconvert_exporter": "python",
   "pygments_lexer": "ipython3",
   "version": "3.7.9"
  }
 },
 "nbformat": 4,
 "nbformat_minor": 5
}
